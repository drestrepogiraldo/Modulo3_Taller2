{
 "cells": [
  {
   "cell_type": "markdown",
   "source": "\n<figure>\n<img src=\"/work/Modulo3_Taller2/fig/ISEADE LOGO Y ESCUDO.png\" align=\"center\"/> \n</figure> ",
   "metadata": {
    "tags": [],
    "cell_id": "e4ad5f8b-464e-488d-bba2-26a6951ac86d",
    "deepnote_app_coordinates": {
     "x": 0,
     "y": 0,
     "w": 12,
     "h": 5
    },
    "deepnote_cell_type": "markdown",
    "deepnote_cell_height": 294.34375
   }
  },
  {
   "cell_type": "markdown",
   "source": "# Taller 2 ",
   "metadata": {
    "tags": [],
    "cell_id": "00001-945db3a3-3601-44bb-a252-2fbde020c405",
    "deepnote_app_coordinates": {
     "x": 0,
     "y": 6,
     "w": 12,
     "h": 5
    },
    "deepnote_cell_type": "markdown",
    "deepnote_cell_height": 82
   }
  },
  {
   "cell_type": "markdown",
   "source": "## Importación de módulos",
   "metadata": {
    "cell_id": "29418b45-9740-40c4-a3cf-968bfd24f4c8",
    "tags": [],
    "deepnote_app_coordinates": {
     "x": 0,
     "y": 12,
     "w": 12,
     "h": 5
    },
    "deepnote_cell_type": "markdown",
    "deepnote_cell_height": 70
   }
  },
  {
   "cell_type": "code",
   "metadata": {
    "cell_id": "a91fa95e-51bb-445a-b00b-9eebcd05af03",
    "tags": [],
    "deepnote_to_be_reexecuted": false,
    "source_hash": "4ac229d7",
    "execution_start": 1647642504153,
    "execution_millis": 43,
    "deepnote_app_coordinates": {
     "x": 0,
     "y": 18,
     "w": 12,
     "h": 5
    },
    "deepnote_cell_type": "code",
    "deepnote_cell_height": 81
   },
   "source": "!pip install statsmodels==0.12.2",
   "execution_count": null,
   "outputs": []
  },
  {
   "cell_type": "code",
   "metadata": {
    "cell_id": "042f2ad1-5efc-410e-a157-782e15d17c11",
    "tags": [],
    "deepnote_to_be_reexecuted": false,
    "source_hash": "d4f558db",
    "execution_start": 1647642504196,
    "execution_millis": 1764,
    "deepnote_app_coordinates": {
     "x": 0,
     "y": 24,
     "w": 12,
     "h": 5
    },
    "deepnote_cell_type": "code",
    "deepnote_cell_height": 315
   },
   "source": "import numpy as np \nimport pandas as pd \nimport seaborn as sns \nimport matplotlib.pyplot as plt\n\nimport sklearn\nfrom sklearn.model_selection import cross_val_score\nfrom sklearn.metrics import roc_auc_score\nfrom sklearn.metrics import roc_curve, auc\nfrom sklearn.preprocessing import MinMaxScaler, MaxAbsScaler, RobustScaler, StandardScaler, OrdinalEncoder\nfrom sklearn.cluster import KMeans\n\nimport statsmodels.formula.api as sfm\nimport statsmodels.api as sm",
   "execution_count": null,
   "outputs": []
  },
  {
   "cell_type": "markdown",
   "source": "## Importación de Datos",
   "metadata": {
    "tags": [],
    "cell_id": "00002-fa458290-e24a-420f-b989-6e179fa42e56",
    "deepnote_app_coordinates": {
     "x": 0,
     "y": 30,
     "w": 12,
     "h": 5
    },
    "deepnote_cell_type": "markdown",
    "deepnote_cell_height": 70
   }
  },
  {
   "cell_type": "code",
   "metadata": {
    "tags": [],
    "deepnote_to_be_reexecuted": false,
    "source_hash": "37db3d2e",
    "execution_start": 1647642505962,
    "execution_millis": 75,
    "cell_id": "00003-a73f23c8-1ab2-43ac-a560-d065d205e6a8",
    "deepnote_app_coordinates": {
     "x": 0,
     "y": 36,
     "w": 12,
     "h": 5
    },
    "deepnote_cell_type": "code",
    "deepnote_cell_height": 345.796875
   },
   "source": "df_customers = pd.read_csv('/work/Modulo3_Caso2/data/Customers.csv',sep='\\t')\ndf_customers.head(3)",
   "execution_count": null,
   "outputs": [
    {
     "output_type": "execute_result",
     "execution_count": 3,
     "data": {
      "application/vnd.deepnote.dataframe.v3+json": {
       "column_count": 29,
       "row_count": 3,
       "columns": [
        {
         "name": "ID",
         "dtype": "int64",
         "stats": {
          "unique_count": 3,
          "nan_count": 0,
          "min": "2174",
          "max": "5524",
          "histogram": [
           {
            "bin_start": 2174,
            "bin_end": 2509,
            "count": 1
           },
           {
            "bin_start": 2509,
            "bin_end": 2844,
            "count": 0
           },
           {
            "bin_start": 2844,
            "bin_end": 3179,
            "count": 0
           },
           {
            "bin_start": 3179,
            "bin_end": 3514,
            "count": 0
           },
           {
            "bin_start": 3514,
            "bin_end": 3849,
            "count": 0
           },
           {
            "bin_start": 3849,
            "bin_end": 4184,
            "count": 1
           },
           {
            "bin_start": 4184,
            "bin_end": 4519,
            "count": 0
           },
           {
            "bin_start": 4519,
            "bin_end": 4854,
            "count": 0
           },
           {
            "bin_start": 4854,
            "bin_end": 5189,
            "count": 0
           },
           {
            "bin_start": 5189,
            "bin_end": 5524,
            "count": 1
           }
          ]
         }
        },
        {
         "name": "Year_Birth",
         "dtype": "int64",
         "stats": {
          "unique_count": 3,
          "nan_count": 0,
          "min": "1954",
          "max": "1965",
          "histogram": [
           {
            "bin_start": 1954,
            "bin_end": 1955.1,
            "count": 1
           },
           {
            "bin_start": 1955.1,
            "bin_end": 1956.2,
            "count": 0
           },
           {
            "bin_start": 1956.2,
            "bin_end": 1957.3,
            "count": 1
           },
           {
            "bin_start": 1957.3,
            "bin_end": 1958.4,
            "count": 0
           },
           {
            "bin_start": 1958.4,
            "bin_end": 1959.5,
            "count": 0
           },
           {
            "bin_start": 1959.5,
            "bin_end": 1960.6,
            "count": 0
           },
           {
            "bin_start": 1960.6,
            "bin_end": 1961.7,
            "count": 0
           },
           {
            "bin_start": 1961.7,
            "bin_end": 1962.8,
            "count": 0
           },
           {
            "bin_start": 1962.8,
            "bin_end": 1963.9,
            "count": 0
           },
           {
            "bin_start": 1963.9,
            "bin_end": 1965,
            "count": 1
           }
          ]
         }
        },
        {
         "name": "Education",
         "dtype": "object",
         "stats": {
          "unique_count": 1,
          "nan_count": 0,
          "categories": [
           {
            "name": "Graduation",
            "count": 3
           }
          ]
         }
        },
        {
         "name": "Marital_Status",
         "dtype": "object",
         "stats": {
          "unique_count": 2,
          "nan_count": 0,
          "categories": [
           {
            "name": "Single",
            "count": 2
           },
           {
            "name": "Together",
            "count": 1
           }
          ]
         }
        },
        {
         "name": "Income",
         "dtype": "float64",
         "stats": {
          "unique_count": 3,
          "nan_count": 0,
          "min": "46344.0",
          "max": "71613.0",
          "histogram": [
           {
            "bin_start": 46344,
            "bin_end": 48870.9,
            "count": 1
           },
           {
            "bin_start": 48870.9,
            "bin_end": 51397.8,
            "count": 0
           },
           {
            "bin_start": 51397.8,
            "bin_end": 53924.7,
            "count": 0
           },
           {
            "bin_start": 53924.7,
            "bin_end": 56451.6,
            "count": 0
           },
           {
            "bin_start": 56451.6,
            "bin_end": 58978.5,
            "count": 1
           },
           {
            "bin_start": 58978.5,
            "bin_end": 61505.4,
            "count": 0
           },
           {
            "bin_start": 61505.4,
            "bin_end": 64032.3,
            "count": 0
           },
           {
            "bin_start": 64032.3,
            "bin_end": 66559.2,
            "count": 0
           },
           {
            "bin_start": 66559.2,
            "bin_end": 69086.1,
            "count": 0
           },
           {
            "bin_start": 69086.1,
            "bin_end": 71613,
            "count": 1
           }
          ]
         }
        },
        {
         "name": "Kidhome",
         "dtype": "int64",
         "stats": {
          "unique_count": 2,
          "nan_count": 0,
          "min": "0",
          "max": "1",
          "histogram": [
           {
            "bin_start": 0,
            "bin_end": 0.1,
            "count": 2
           },
           {
            "bin_start": 0.1,
            "bin_end": 0.2,
            "count": 0
           },
           {
            "bin_start": 0.2,
            "bin_end": 0.30000000000000004,
            "count": 0
           },
           {
            "bin_start": 0.30000000000000004,
            "bin_end": 0.4,
            "count": 0
           },
           {
            "bin_start": 0.4,
            "bin_end": 0.5,
            "count": 0
           },
           {
            "bin_start": 0.5,
            "bin_end": 0.6000000000000001,
            "count": 0
           },
           {
            "bin_start": 0.6000000000000001,
            "bin_end": 0.7000000000000001,
            "count": 0
           },
           {
            "bin_start": 0.7000000000000001,
            "bin_end": 0.8,
            "count": 0
           },
           {
            "bin_start": 0.8,
            "bin_end": 0.9,
            "count": 0
           },
           {
            "bin_start": 0.9,
            "bin_end": 1,
            "count": 1
           }
          ]
         }
        },
        {
         "name": "Teenhome",
         "dtype": "int64",
         "stats": {
          "unique_count": 2,
          "nan_count": 0,
          "min": "0",
          "max": "1",
          "histogram": [
           {
            "bin_start": 0,
            "bin_end": 0.1,
            "count": 2
           },
           {
            "bin_start": 0.1,
            "bin_end": 0.2,
            "count": 0
           },
           {
            "bin_start": 0.2,
            "bin_end": 0.30000000000000004,
            "count": 0
           },
           {
            "bin_start": 0.30000000000000004,
            "bin_end": 0.4,
            "count": 0
           },
           {
            "bin_start": 0.4,
            "bin_end": 0.5,
            "count": 0
           },
           {
            "bin_start": 0.5,
            "bin_end": 0.6000000000000001,
            "count": 0
           },
           {
            "bin_start": 0.6000000000000001,
            "bin_end": 0.7000000000000001,
            "count": 0
           },
           {
            "bin_start": 0.7000000000000001,
            "bin_end": 0.8,
            "count": 0
           },
           {
            "bin_start": 0.8,
            "bin_end": 0.9,
            "count": 0
           },
           {
            "bin_start": 0.9,
            "bin_end": 1,
            "count": 1
           }
          ]
         }
        },
        {
         "name": "Dt_Customer",
         "dtype": "object",
         "stats": {
          "unique_count": 3,
          "nan_count": 0,
          "categories": [
           {
            "name": "04-09-2012",
            "count": 1
           },
           {
            "name": "08-03-2014",
            "count": 1
           },
           {
            "name": "21-08-2013",
            "count": 1
           }
          ]
         }
        },
        {
         "name": "Recency",
         "dtype": "int64",
         "stats": {
          "unique_count": 3,
          "nan_count": 0,
          "min": "26",
          "max": "58",
          "histogram": [
           {
            "bin_start": 26,
            "bin_end": 29.2,
            "count": 1
           },
           {
            "bin_start": 29.2,
            "bin_end": 32.4,
            "count": 0
           },
           {
            "bin_start": 32.4,
            "bin_end": 35.6,
            "count": 0
           },
           {
            "bin_start": 35.6,
            "bin_end": 38.8,
            "count": 1
           },
           {
            "bin_start": 38.8,
            "bin_end": 42,
            "count": 0
           },
           {
            "bin_start": 42,
            "bin_end": 45.2,
            "count": 0
           },
           {
            "bin_start": 45.2,
            "bin_end": 48.400000000000006,
            "count": 0
           },
           {
            "bin_start": 48.400000000000006,
            "bin_end": 51.6,
            "count": 0
           },
           {
            "bin_start": 51.6,
            "bin_end": 54.8,
            "count": 0
           },
           {
            "bin_start": 54.8,
            "bin_end": 58,
            "count": 1
           }
          ]
         }
        },
        {
         "name": "MntWines",
         "dtype": "int64",
         "stats": {
          "unique_count": 3,
          "nan_count": 0,
          "min": "11",
          "max": "635",
          "histogram": [
           {
            "bin_start": 11,
            "bin_end": 73.4,
            "count": 1
           },
           {
            "bin_start": 73.4,
            "bin_end": 135.8,
            "count": 0
           },
           {
            "bin_start": 135.8,
            "bin_end": 198.2,
            "count": 0
           },
           {
            "bin_start": 198.2,
            "bin_end": 260.6,
            "count": 0
           },
           {
            "bin_start": 260.6,
            "bin_end": 323,
            "count": 0
           },
           {
            "bin_start": 323,
            "bin_end": 385.4,
            "count": 0
           },
           {
            "bin_start": 385.4,
            "bin_end": 447.8,
            "count": 1
           },
           {
            "bin_start": 447.8,
            "bin_end": 510.2,
            "count": 0
           },
           {
            "bin_start": 510.2,
            "bin_end": 572.6,
            "count": 0
           },
           {
            "bin_start": 572.6,
            "bin_end": 635,
            "count": 1
           }
          ]
         }
        },
        {
         "name": "MntFruits",
         "dtype": "int64",
         "stats": {
          "unique_count": 3,
          "nan_count": 0,
          "min": "1",
          "max": "88",
          "histogram": [
           {
            "bin_start": 1,
            "bin_end": 9.7,
            "count": 1
           },
           {
            "bin_start": 9.7,
            "bin_end": 18.4,
            "count": 0
           },
           {
            "bin_start": 18.4,
            "bin_end": 27.099999999999998,
            "count": 0
           },
           {
            "bin_start": 27.099999999999998,
            "bin_end": 35.8,
            "count": 0
           },
           {
            "bin_start": 35.8,
            "bin_end": 44.5,
            "count": 0
           },
           {
            "bin_start": 44.5,
            "bin_end": 53.199999999999996,
            "count": 1
           },
           {
            "bin_start": 53.199999999999996,
            "bin_end": 61.89999999999999,
            "count": 0
           },
           {
            "bin_start": 61.89999999999999,
            "bin_end": 70.6,
            "count": 0
           },
           {
            "bin_start": 70.6,
            "bin_end": 79.3,
            "count": 0
           },
           {
            "bin_start": 79.3,
            "bin_end": 88,
            "count": 1
           }
          ]
         }
        },
        {
         "name": "MntMeatProducts",
         "dtype": "int64",
         "stats": {
          "unique_count": 3,
          "nan_count": 0,
          "min": "6",
          "max": "546",
          "histogram": [
           {
            "bin_start": 6,
            "bin_end": 60,
            "count": 1
           },
           {
            "bin_start": 60,
            "bin_end": 114,
            "count": 0
           },
           {
            "bin_start": 114,
            "bin_end": 168,
            "count": 1
           },
           {
            "bin_start": 168,
            "bin_end": 222,
            "count": 0
           },
           {
            "bin_start": 222,
            "bin_end": 276,
            "count": 0
           },
           {
            "bin_start": 276,
            "bin_end": 330,
            "count": 0
           },
           {
            "bin_start": 330,
            "bin_end": 384,
            "count": 0
           },
           {
            "bin_start": 384,
            "bin_end": 438,
            "count": 0
           },
           {
            "bin_start": 438,
            "bin_end": 492,
            "count": 0
           },
           {
            "bin_start": 492,
            "bin_end": 546,
            "count": 1
           }
          ]
         }
        },
        {
         "name": "MntFishProducts",
         "dtype": "int64",
         "stats": {
          "unique_count": 3,
          "nan_count": 0,
          "min": "2",
          "max": "172",
          "histogram": [
           {
            "bin_start": 2,
            "bin_end": 19,
            "count": 1
           },
           {
            "bin_start": 19,
            "bin_end": 36,
            "count": 0
           },
           {
            "bin_start": 36,
            "bin_end": 53,
            "count": 0
           },
           {
            "bin_start": 53,
            "bin_end": 70,
            "count": 0
           },
           {
            "bin_start": 70,
            "bin_end": 87,
            "count": 0
           },
           {
            "bin_start": 87,
            "bin_end": 104,
            "count": 0
           },
           {
            "bin_start": 104,
            "bin_end": 121,
            "count": 1
           },
           {
            "bin_start": 121,
            "bin_end": 138,
            "count": 0
           },
           {
            "bin_start": 138,
            "bin_end": 155,
            "count": 0
           },
           {
            "bin_start": 155,
            "bin_end": 172,
            "count": 1
           }
          ]
         }
        },
        {
         "name": "MntSweetProducts",
         "dtype": "int64",
         "stats": {
          "unique_count": 3,
          "nan_count": 0,
          "min": "1",
          "max": "88",
          "histogram": [
           {
            "bin_start": 1,
            "bin_end": 9.7,
            "count": 1
           },
           {
            "bin_start": 9.7,
            "bin_end": 18.4,
            "count": 0
           },
           {
            "bin_start": 18.4,
            "bin_end": 27.099999999999998,
            "count": 1
           },
           {
            "bin_start": 27.099999999999998,
            "bin_end": 35.8,
            "count": 0
           },
           {
            "bin_start": 35.8,
            "bin_end": 44.5,
            "count": 0
           },
           {
            "bin_start": 44.5,
            "bin_end": 53.199999999999996,
            "count": 0
           },
           {
            "bin_start": 53.199999999999996,
            "bin_end": 61.89999999999999,
            "count": 0
           },
           {
            "bin_start": 61.89999999999999,
            "bin_end": 70.6,
            "count": 0
           },
           {
            "bin_start": 70.6,
            "bin_end": 79.3,
            "count": 0
           },
           {
            "bin_start": 79.3,
            "bin_end": 88,
            "count": 1
           }
          ]
         }
        },
        {
         "name": "MntGoldProds",
         "dtype": "int64",
         "stats": {
          "unique_count": 3,
          "nan_count": 0,
          "min": "6",
          "max": "88",
          "histogram": [
           {
            "bin_start": 6,
            "bin_end": 14.2,
            "count": 1
           },
           {
            "bin_start": 14.2,
            "bin_end": 22.4,
            "count": 0
           },
           {
            "bin_start": 22.4,
            "bin_end": 30.599999999999998,
            "count": 0
           },
           {
            "bin_start": 30.599999999999998,
            "bin_end": 38.8,
            "count": 0
           },
           {
            "bin_start": 38.8,
            "bin_end": 47,
            "count": 1
           },
           {
            "bin_start": 47,
            "bin_end": 55.199999999999996,
            "count": 0
           },
           {
            "bin_start": 55.199999999999996,
            "bin_end": 63.39999999999999,
            "count": 0
           },
           {
            "bin_start": 63.39999999999999,
            "bin_end": 71.6,
            "count": 0
           },
           {
            "bin_start": 71.6,
            "bin_end": 79.8,
            "count": 0
           },
           {
            "bin_start": 79.8,
            "bin_end": 88,
            "count": 1
           }
          ]
         }
        },
        {
         "name": "NumDealsPurchases",
         "dtype": "int64",
         "stats": {
          "unique_count": 3,
          "nan_count": 0,
          "min": "1",
          "max": "3",
          "histogram": [
           {
            "bin_start": 1,
            "bin_end": 1.2,
            "count": 1
           },
           {
            "bin_start": 1.2,
            "bin_end": 1.4,
            "count": 0
           },
           {
            "bin_start": 1.4,
            "bin_end": 1.6,
            "count": 0
           },
           {
            "bin_start": 1.6,
            "bin_end": 1.8,
            "count": 0
           },
           {
            "bin_start": 1.8,
            "bin_end": 2,
            "count": 0
           },
           {
            "bin_start": 2,
            "bin_end": 2.2,
            "count": 1
           },
           {
            "bin_start": 2.2,
            "bin_end": 2.4000000000000004,
            "count": 0
           },
           {
            "bin_start": 2.4000000000000004,
            "bin_end": 2.6,
            "count": 0
           },
           {
            "bin_start": 2.6,
            "bin_end": 2.8,
            "count": 0
           },
           {
            "bin_start": 2.8,
            "bin_end": 3,
            "count": 1
           }
          ]
         }
        },
        {
         "name": "NumWebPurchases",
         "dtype": "int64",
         "stats": {
          "unique_count": 2,
          "nan_count": 0,
          "min": "1",
          "max": "8",
          "histogram": [
           {
            "bin_start": 1,
            "bin_end": 1.7,
            "count": 1
           },
           {
            "bin_start": 1.7,
            "bin_end": 2.4,
            "count": 0
           },
           {
            "bin_start": 2.4,
            "bin_end": 3.0999999999999996,
            "count": 0
           },
           {
            "bin_start": 3.0999999999999996,
            "bin_end": 3.8,
            "count": 0
           },
           {
            "bin_start": 3.8,
            "bin_end": 4.5,
            "count": 0
           },
           {
            "bin_start": 4.5,
            "bin_end": 5.199999999999999,
            "count": 0
           },
           {
            "bin_start": 5.199999999999999,
            "bin_end": 5.8999999999999995,
            "count": 0
           },
           {
            "bin_start": 5.8999999999999995,
            "bin_end": 6.6,
            "count": 0
           },
           {
            "bin_start": 6.6,
            "bin_end": 7.3,
            "count": 0
           },
           {
            "bin_start": 7.3,
            "bin_end": 8,
            "count": 2
           }
          ]
         }
        },
        {
         "name": "NumCatalogPurchases",
         "dtype": "int64",
         "stats": {
          "unique_count": 3,
          "nan_count": 0,
          "min": "1",
          "max": "10",
          "histogram": [
           {
            "bin_start": 1,
            "bin_end": 1.9,
            "count": 1
           },
           {
            "bin_start": 1.9,
            "bin_end": 2.8,
            "count": 1
           },
           {
            "bin_start": 2.8,
            "bin_end": 3.7,
            "count": 0
           },
           {
            "bin_start": 3.7,
            "bin_end": 4.6,
            "count": 0
           },
           {
            "bin_start": 4.6,
            "bin_end": 5.5,
            "count": 0
           },
           {
            "bin_start": 5.5,
            "bin_end": 6.4,
            "count": 0
           },
           {
            "bin_start": 6.4,
            "bin_end": 7.3,
            "count": 0
           },
           {
            "bin_start": 7.3,
            "bin_end": 8.2,
            "count": 0
           },
           {
            "bin_start": 8.2,
            "bin_end": 9.1,
            "count": 0
           },
           {
            "bin_start": 9.1,
            "bin_end": 10,
            "count": 1
           }
          ]
         }
        },
        {
         "name": "NumStorePurchases",
         "dtype": "int64",
         "stats": {
          "unique_count": 3,
          "nan_count": 0,
          "min": "2",
          "max": "10",
          "histogram": [
           {
            "bin_start": 2,
            "bin_end": 2.8,
            "count": 1
           },
           {
            "bin_start": 2.8,
            "bin_end": 3.6,
            "count": 0
           },
           {
            "bin_start": 3.6,
            "bin_end": 4.4,
            "count": 1
           },
           {
            "bin_start": 4.4,
            "bin_end": 5.2,
            "count": 0
           },
           {
            "bin_start": 5.2,
            "bin_end": 6,
            "count": 0
           },
           {
            "bin_start": 6,
            "bin_end": 6.800000000000001,
            "count": 0
           },
           {
            "bin_start": 6.800000000000001,
            "bin_end": 7.6000000000000005,
            "count": 0
           },
           {
            "bin_start": 7.6000000000000005,
            "bin_end": 8.4,
            "count": 0
           },
           {
            "bin_start": 8.4,
            "bin_end": 9.2,
            "count": 0
           },
           {
            "bin_start": 9.2,
            "bin_end": 10,
            "count": 1
           }
          ]
         }
        },
        {
         "name": "NumWebVisitsMonth",
         "dtype": "int64",
         "stats": {
          "unique_count": 3,
          "nan_count": 0,
          "min": "4",
          "max": "7",
          "histogram": [
           {
            "bin_start": 4,
            "bin_end": 4.3,
            "count": 1
           },
           {
            "bin_start": 4.3,
            "bin_end": 4.6,
            "count": 0
           },
           {
            "bin_start": 4.6,
            "bin_end": 4.9,
            "count": 0
           },
           {
            "bin_start": 4.9,
            "bin_end": 5.2,
            "count": 1
           },
           {
            "bin_start": 5.2,
            "bin_end": 5.5,
            "count": 0
           },
           {
            "bin_start": 5.5,
            "bin_end": 5.8,
            "count": 0
           },
           {
            "bin_start": 5.8,
            "bin_end": 6.1,
            "count": 0
           },
           {
            "bin_start": 6.1,
            "bin_end": 6.4,
            "count": 0
           },
           {
            "bin_start": 6.4,
            "bin_end": 6.699999999999999,
            "count": 0
           },
           {
            "bin_start": 6.699999999999999,
            "bin_end": 7,
            "count": 1
           }
          ]
         }
        },
        {
         "name": "AcceptedCmp3",
         "dtype": "int64",
         "stats": {
          "unique_count": 1,
          "nan_count": 0,
          "min": "0",
          "max": "0",
          "histogram": [
           {
            "bin_start": -0.5,
            "bin_end": -0.4,
            "count": 0
           },
           {
            "bin_start": -0.4,
            "bin_end": -0.3,
            "count": 0
           },
           {
            "bin_start": -0.3,
            "bin_end": -0.19999999999999996,
            "count": 0
           },
           {
            "bin_start": -0.19999999999999996,
            "bin_end": -0.09999999999999998,
            "count": 0
           },
           {
            "bin_start": -0.09999999999999998,
            "bin_end": 0,
            "count": 0
           },
           {
            "bin_start": 0,
            "bin_end": 0.10000000000000009,
            "count": 3
           },
           {
            "bin_start": 0.10000000000000009,
            "bin_end": 0.20000000000000007,
            "count": 0
           },
           {
            "bin_start": 0.20000000000000007,
            "bin_end": 0.30000000000000004,
            "count": 0
           },
           {
            "bin_start": 0.30000000000000004,
            "bin_end": 0.4,
            "count": 0
           },
           {
            "bin_start": 0.4,
            "bin_end": 0.5,
            "count": 0
           }
          ]
         }
        },
        {
         "name": "AcceptedCmp4",
         "dtype": "int64",
         "stats": {
          "unique_count": 1,
          "nan_count": 0,
          "min": "0",
          "max": "0",
          "histogram": [
           {
            "bin_start": -0.5,
            "bin_end": -0.4,
            "count": 0
           },
           {
            "bin_start": -0.4,
            "bin_end": -0.3,
            "count": 0
           },
           {
            "bin_start": -0.3,
            "bin_end": -0.19999999999999996,
            "count": 0
           },
           {
            "bin_start": -0.19999999999999996,
            "bin_end": -0.09999999999999998,
            "count": 0
           },
           {
            "bin_start": -0.09999999999999998,
            "bin_end": 0,
            "count": 0
           },
           {
            "bin_start": 0,
            "bin_end": 0.10000000000000009,
            "count": 3
           },
           {
            "bin_start": 0.10000000000000009,
            "bin_end": 0.20000000000000007,
            "count": 0
           },
           {
            "bin_start": 0.20000000000000007,
            "bin_end": 0.30000000000000004,
            "count": 0
           },
           {
            "bin_start": 0.30000000000000004,
            "bin_end": 0.4,
            "count": 0
           },
           {
            "bin_start": 0.4,
            "bin_end": 0.5,
            "count": 0
           }
          ]
         }
        },
        {
         "name": "AcceptedCmp5",
         "dtype": "int64",
         "stats": {
          "unique_count": 1,
          "nan_count": 0,
          "min": "0",
          "max": "0",
          "histogram": [
           {
            "bin_start": -0.5,
            "bin_end": -0.4,
            "count": 0
           },
           {
            "bin_start": -0.4,
            "bin_end": -0.3,
            "count": 0
           },
           {
            "bin_start": -0.3,
            "bin_end": -0.19999999999999996,
            "count": 0
           },
           {
            "bin_start": -0.19999999999999996,
            "bin_end": -0.09999999999999998,
            "count": 0
           },
           {
            "bin_start": -0.09999999999999998,
            "bin_end": 0,
            "count": 0
           },
           {
            "bin_start": 0,
            "bin_end": 0.10000000000000009,
            "count": 3
           },
           {
            "bin_start": 0.10000000000000009,
            "bin_end": 0.20000000000000007,
            "count": 0
           },
           {
            "bin_start": 0.20000000000000007,
            "bin_end": 0.30000000000000004,
            "count": 0
           },
           {
            "bin_start": 0.30000000000000004,
            "bin_end": 0.4,
            "count": 0
           },
           {
            "bin_start": 0.4,
            "bin_end": 0.5,
            "count": 0
           }
          ]
         }
        },
        {
         "name": "AcceptedCmp1",
         "dtype": "int64",
         "stats": {
          "unique_count": 1,
          "nan_count": 0,
          "min": "0",
          "max": "0",
          "histogram": [
           {
            "bin_start": -0.5,
            "bin_end": -0.4,
            "count": 0
           },
           {
            "bin_start": -0.4,
            "bin_end": -0.3,
            "count": 0
           },
           {
            "bin_start": -0.3,
            "bin_end": -0.19999999999999996,
            "count": 0
           },
           {
            "bin_start": -0.19999999999999996,
            "bin_end": -0.09999999999999998,
            "count": 0
           },
           {
            "bin_start": -0.09999999999999998,
            "bin_end": 0,
            "count": 0
           },
           {
            "bin_start": 0,
            "bin_end": 0.10000000000000009,
            "count": 3
           },
           {
            "bin_start": 0.10000000000000009,
            "bin_end": 0.20000000000000007,
            "count": 0
           },
           {
            "bin_start": 0.20000000000000007,
            "bin_end": 0.30000000000000004,
            "count": 0
           },
           {
            "bin_start": 0.30000000000000004,
            "bin_end": 0.4,
            "count": 0
           },
           {
            "bin_start": 0.4,
            "bin_end": 0.5,
            "count": 0
           }
          ]
         }
        },
        {
         "name": "AcceptedCmp2",
         "dtype": "int64",
         "stats": {
          "unique_count": 1,
          "nan_count": 0,
          "min": "0",
          "max": "0",
          "histogram": [
           {
            "bin_start": -0.5,
            "bin_end": -0.4,
            "count": 0
           },
           {
            "bin_start": -0.4,
            "bin_end": -0.3,
            "count": 0
           },
           {
            "bin_start": -0.3,
            "bin_end": -0.19999999999999996,
            "count": 0
           },
           {
            "bin_start": -0.19999999999999996,
            "bin_end": -0.09999999999999998,
            "count": 0
           },
           {
            "bin_start": -0.09999999999999998,
            "bin_end": 0,
            "count": 0
           },
           {
            "bin_start": 0,
            "bin_end": 0.10000000000000009,
            "count": 3
           },
           {
            "bin_start": 0.10000000000000009,
            "bin_end": 0.20000000000000007,
            "count": 0
           },
           {
            "bin_start": 0.20000000000000007,
            "bin_end": 0.30000000000000004,
            "count": 0
           },
           {
            "bin_start": 0.30000000000000004,
            "bin_end": 0.4,
            "count": 0
           },
           {
            "bin_start": 0.4,
            "bin_end": 0.5,
            "count": 0
           }
          ]
         }
        },
        {
         "name": "Complain",
         "dtype": "int64",
         "stats": {
          "unique_count": 1,
          "nan_count": 0,
          "min": "0",
          "max": "0",
          "histogram": [
           {
            "bin_start": -0.5,
            "bin_end": -0.4,
            "count": 0
           },
           {
            "bin_start": -0.4,
            "bin_end": -0.3,
            "count": 0
           },
           {
            "bin_start": -0.3,
            "bin_end": -0.19999999999999996,
            "count": 0
           },
           {
            "bin_start": -0.19999999999999996,
            "bin_end": -0.09999999999999998,
            "count": 0
           },
           {
            "bin_start": -0.09999999999999998,
            "bin_end": 0,
            "count": 0
           },
           {
            "bin_start": 0,
            "bin_end": 0.10000000000000009,
            "count": 3
           },
           {
            "bin_start": 0.10000000000000009,
            "bin_end": 0.20000000000000007,
            "count": 0
           },
           {
            "bin_start": 0.20000000000000007,
            "bin_end": 0.30000000000000004,
            "count": 0
           },
           {
            "bin_start": 0.30000000000000004,
            "bin_end": 0.4,
            "count": 0
           },
           {
            "bin_start": 0.4,
            "bin_end": 0.5,
            "count": 0
           }
          ]
         }
        },
        {
         "name": "Z_CostContact",
         "dtype": "int64",
         "stats": {
          "unique_count": 1,
          "nan_count": 0,
          "min": "3",
          "max": "3",
          "histogram": [
           {
            "bin_start": 2.5,
            "bin_end": 2.6,
            "count": 0
           },
           {
            "bin_start": 2.6,
            "bin_end": 2.7,
            "count": 0
           },
           {
            "bin_start": 2.7,
            "bin_end": 2.8,
            "count": 0
           },
           {
            "bin_start": 2.8,
            "bin_end": 2.9,
            "count": 0
           },
           {
            "bin_start": 2.9,
            "bin_end": 3,
            "count": 0
           },
           {
            "bin_start": 3,
            "bin_end": 3.1,
            "count": 3
           },
           {
            "bin_start": 3.1,
            "bin_end": 3.2,
            "count": 0
           },
           {
            "bin_start": 3.2,
            "bin_end": 3.3,
            "count": 0
           },
           {
            "bin_start": 3.3,
            "bin_end": 3.4,
            "count": 0
           },
           {
            "bin_start": 3.4,
            "bin_end": 3.5,
            "count": 0
           }
          ]
         }
        },
        {
         "name": "Z_Revenue",
         "dtype": "int64",
         "stats": {
          "unique_count": 1,
          "nan_count": 0,
          "min": "11",
          "max": "11",
          "histogram": [
           {
            "bin_start": 10.5,
            "bin_end": 10.6,
            "count": 0
           },
           {
            "bin_start": 10.6,
            "bin_end": 10.7,
            "count": 0
           },
           {
            "bin_start": 10.7,
            "bin_end": 10.8,
            "count": 0
           },
           {
            "bin_start": 10.8,
            "bin_end": 10.9,
            "count": 0
           },
           {
            "bin_start": 10.9,
            "bin_end": 11,
            "count": 0
           },
           {
            "bin_start": 11,
            "bin_end": 11.1,
            "count": 3
           },
           {
            "bin_start": 11.1,
            "bin_end": 11.2,
            "count": 0
           },
           {
            "bin_start": 11.2,
            "bin_end": 11.3,
            "count": 0
           },
           {
            "bin_start": 11.3,
            "bin_end": 11.4,
            "count": 0
           },
           {
            "bin_start": 11.4,
            "bin_end": 11.5,
            "count": 0
           }
          ]
         }
        },
        {
         "name": "Response",
         "dtype": "int64",
         "stats": {
          "unique_count": 2,
          "nan_count": 0,
          "min": "0",
          "max": "1",
          "histogram": [
           {
            "bin_start": 0,
            "bin_end": 0.1,
            "count": 2
           },
           {
            "bin_start": 0.1,
            "bin_end": 0.2,
            "count": 0
           },
           {
            "bin_start": 0.2,
            "bin_end": 0.30000000000000004,
            "count": 0
           },
           {
            "bin_start": 0.30000000000000004,
            "bin_end": 0.4,
            "count": 0
           },
           {
            "bin_start": 0.4,
            "bin_end": 0.5,
            "count": 0
           },
           {
            "bin_start": 0.5,
            "bin_end": 0.6000000000000001,
            "count": 0
           },
           {
            "bin_start": 0.6000000000000001,
            "bin_end": 0.7000000000000001,
            "count": 0
           },
           {
            "bin_start": 0.7000000000000001,
            "bin_end": 0.8,
            "count": 0
           },
           {
            "bin_start": 0.8,
            "bin_end": 0.9,
            "count": 0
           },
           {
            "bin_start": 0.9,
            "bin_end": 1,
            "count": 1
           }
          ]
         }
        },
        {
         "name": "_deepnote_index_column",
         "dtype": "int64"
        }
       ],
       "rows": [
        {
         "ID": 5524,
         "Year_Birth": 1957,
         "Education": "Graduation",
         "Marital_Status": "Single",
         "Income": 58138,
         "Kidhome": 0,
         "Teenhome": 0,
         "Dt_Customer": "04-09-2012",
         "Recency": 58,
         "MntWines": 635,
         "MntFruits": 88,
         "MntMeatProducts": 546,
         "MntFishProducts": 172,
         "MntSweetProducts": 88,
         "MntGoldProds": 88,
         "NumDealsPurchases": 3,
         "NumWebPurchases": 8,
         "NumCatalogPurchases": 10,
         "NumStorePurchases": 4,
         "NumWebVisitsMonth": 7,
         "AcceptedCmp3": 0,
         "AcceptedCmp4": 0,
         "AcceptedCmp5": 0,
         "AcceptedCmp1": 0,
         "AcceptedCmp2": 0,
         "Complain": 0,
         "Z_CostContact": 3,
         "Z_Revenue": 11,
         "Response": 1,
         "_deepnote_index_column": 0
        },
        {
         "ID": 2174,
         "Year_Birth": 1954,
         "Education": "Graduation",
         "Marital_Status": "Single",
         "Income": 46344,
         "Kidhome": 1,
         "Teenhome": 1,
         "Dt_Customer": "08-03-2014",
         "Recency": 38,
         "MntWines": 11,
         "MntFruits": 1,
         "MntMeatProducts": 6,
         "MntFishProducts": 2,
         "MntSweetProducts": 1,
         "MntGoldProds": 6,
         "NumDealsPurchases": 2,
         "NumWebPurchases": 1,
         "NumCatalogPurchases": 1,
         "NumStorePurchases": 2,
         "NumWebVisitsMonth": 5,
         "AcceptedCmp3": 0,
         "AcceptedCmp4": 0,
         "AcceptedCmp5": 0,
         "AcceptedCmp1": 0,
         "AcceptedCmp2": 0,
         "Complain": 0,
         "Z_CostContact": 3,
         "Z_Revenue": 11,
         "Response": 0,
         "_deepnote_index_column": 1
        },
        {
         "ID": 4141,
         "Year_Birth": 1965,
         "Education": "Graduation",
         "Marital_Status": "Together",
         "Income": 71613,
         "Kidhome": 0,
         "Teenhome": 0,
         "Dt_Customer": "21-08-2013",
         "Recency": 26,
         "MntWines": 426,
         "MntFruits": 49,
         "MntMeatProducts": 127,
         "MntFishProducts": 111,
         "MntSweetProducts": 21,
         "MntGoldProds": 42,
         "NumDealsPurchases": 1,
         "NumWebPurchases": 8,
         "NumCatalogPurchases": 2,
         "NumStorePurchases": 10,
         "NumWebVisitsMonth": 4,
         "AcceptedCmp3": 0,
         "AcceptedCmp4": 0,
         "AcceptedCmp5": 0,
         "AcceptedCmp1": 0,
         "AcceptedCmp2": 0,
         "Complain": 0,
         "Z_CostContact": 3,
         "Z_Revenue": 11,
         "Response": 0,
         "_deepnote_index_column": 2
        }
       ]
      },
      "text/plain": "     ID  Year_Birth   Education Marital_Status   Income  Kidhome  Teenhome  \\\n0  5524        1957  Graduation         Single  58138.0        0         0   \n1  2174        1954  Graduation         Single  46344.0        1         1   \n2  4141        1965  Graduation       Together  71613.0        0         0   \n\n  Dt_Customer  Recency  MntWines  ...  NumWebVisitsMonth  AcceptedCmp3  \\\n0  04-09-2012       58       635  ...                  7             0   \n1  08-03-2014       38        11  ...                  5             0   \n2  21-08-2013       26       426  ...                  4             0   \n\n   AcceptedCmp4  AcceptedCmp5  AcceptedCmp1  AcceptedCmp2  Complain  \\\n0             0             0             0             0         0   \n1             0             0             0             0         0   \n2             0             0             0             0         0   \n\n   Z_CostContact  Z_Revenue  Response  \n0              3         11         1  \n1              3         11         0  \n2              3         11         0  \n\n[3 rows x 29 columns]",
      "text/html": "<div>\n<style scoped>\n    .dataframe tbody tr th:only-of-type {\n        vertical-align: middle;\n    }\n\n    .dataframe tbody tr th {\n        vertical-align: top;\n    }\n\n    .dataframe thead th {\n        text-align: right;\n    }\n</style>\n<table border=\"1\" class=\"dataframe\">\n  <thead>\n    <tr style=\"text-align: right;\">\n      <th></th>\n      <th>ID</th>\n      <th>Year_Birth</th>\n      <th>Education</th>\n      <th>Marital_Status</th>\n      <th>Income</th>\n      <th>Kidhome</th>\n      <th>Teenhome</th>\n      <th>Dt_Customer</th>\n      <th>Recency</th>\n      <th>MntWines</th>\n      <th>...</th>\n      <th>NumWebVisitsMonth</th>\n      <th>AcceptedCmp3</th>\n      <th>AcceptedCmp4</th>\n      <th>AcceptedCmp5</th>\n      <th>AcceptedCmp1</th>\n      <th>AcceptedCmp2</th>\n      <th>Complain</th>\n      <th>Z_CostContact</th>\n      <th>Z_Revenue</th>\n      <th>Response</th>\n    </tr>\n  </thead>\n  <tbody>\n    <tr>\n      <th>0</th>\n      <td>5524</td>\n      <td>1957</td>\n      <td>Graduation</td>\n      <td>Single</td>\n      <td>58138.0</td>\n      <td>0</td>\n      <td>0</td>\n      <td>04-09-2012</td>\n      <td>58</td>\n      <td>635</td>\n      <td>...</td>\n      <td>7</td>\n      <td>0</td>\n      <td>0</td>\n      <td>0</td>\n      <td>0</td>\n      <td>0</td>\n      <td>0</td>\n      <td>3</td>\n      <td>11</td>\n      <td>1</td>\n    </tr>\n    <tr>\n      <th>1</th>\n      <td>2174</td>\n      <td>1954</td>\n      <td>Graduation</td>\n      <td>Single</td>\n      <td>46344.0</td>\n      <td>1</td>\n      <td>1</td>\n      <td>08-03-2014</td>\n      <td>38</td>\n      <td>11</td>\n      <td>...</td>\n      <td>5</td>\n      <td>0</td>\n      <td>0</td>\n      <td>0</td>\n      <td>0</td>\n      <td>0</td>\n      <td>0</td>\n      <td>3</td>\n      <td>11</td>\n      <td>0</td>\n    </tr>\n    <tr>\n      <th>2</th>\n      <td>4141</td>\n      <td>1965</td>\n      <td>Graduation</td>\n      <td>Together</td>\n      <td>71613.0</td>\n      <td>0</td>\n      <td>0</td>\n      <td>21-08-2013</td>\n      <td>26</td>\n      <td>426</td>\n      <td>...</td>\n      <td>4</td>\n      <td>0</td>\n      <td>0</td>\n      <td>0</td>\n      <td>0</td>\n      <td>0</td>\n      <td>0</td>\n      <td>3</td>\n      <td>11</td>\n      <td>0</td>\n    </tr>\n  </tbody>\n</table>\n<p>3 rows × 29 columns</p>\n</div>"
     },
     "metadata": {}
    }
   ]
  },
  {
   "cell_type": "markdown",
   "source": "## Problema de Negocio\n\nEl contexto de este problema de negocio es la introducción de un nuevo producto. La organización para cual usted trabaja desarrolló un nuevo producto y lo ha promocionado entre sus clientes actuales. La organización está interesada en construir un modelo para seleccionar las características que poseen los clientes que mejor responden a las promociones ofertadas.",
   "metadata": {
    "tags": [],
    "cell_id": "00004-58f03fe0-9036-4eef-8aa2-f3633810e8dc",
    "deepnote_app_coordinates": {
     "x": 0,
     "y": 42,
     "w": 12,
     "h": 6
    },
    "deepnote_cell_type": "markdown",
    "deepnote_cell_height": 153.1875
   }
  },
  {
   "cell_type": "markdown",
   "source": "## Análisis Exploratorio de Datos",
   "metadata": {
    "cell_id": "a6c7ebcb-6f42-4237-a938-64b9e29f5ed2",
    "tags": [],
    "deepnote_app_coordinates": {
     "x": 0,
     "y": 72,
     "w": 12,
     "h": 5
    },
    "deepnote_cell_type": "markdown",
    "deepnote_cell_height": 70
   }
  },
  {
   "cell_type": "markdown",
   "source": "### DICCIONARIO DE DATOS\n\nLas tablas de datos suelen ir acompañadas de un diccionario de datos que explica el contenido de la información contenida en una de las columnas y, en ocasiones, proporciona algún contexto empresarial. \n\n#### Gente\n\n- Year_Birth: año de nacimiento del cliente\n- Education: nivel de educación del cliente\n- Marital_Status: estado civil del cliente\n- Income: ingresos familiares anuales del cliente\n- Kidhome: Número de niños en el hogar del cliente\n- Teenhome: Número de adolescentes en el hogar del cliente\n- Recency: Número de días desde la última compra del cliente\n\n#### Productos\n\n- MntWines: Cantidad gastada en vino en los últimos 2 años\n- MntFruits: Cantidad gastada en frutas en los últimos 2 años\n- MntMeatProducts: cantidad gastada en carne en los últimos 2 años\n- MntFishProducts: cantidad gastada en pescado en los últimos 2 años\n- MntSweetProducts: cantidad gastada en dulces en los últimos 2 años\n- MntGoldProds: cantidad gastada en oro en los últimos 2 años\n\n\n#### Promoción\n\n- NumDealsPurchases: Número de compras realizadas con descuento\n- AcceptedCmp1: 1 si el cliente aceptó la oferta en la 1ª campaña, 0 en caso contrario\n- AcceptedCmp2: 1 si el cliente aceptó la oferta en la 2ª campaña, 0 en caso contrario\n- AcceptedCmp3: 1 si el cliente aceptó la oferta en la 3ra campaña, 0 en caso contrario\n- AcceptedCmp4: 1 si el cliente aceptó la oferta en la 4ª campaña, 0 en caso contrario\n- AcceptedCmp5: 1 si el cliente aceptó la oferta en la 5ª campaña, 0 en caso contrario\n- Response: 1 si el cliente aceptó la oferta en la última campaña, 0 en caso contrario\n- Total_Accepted: Cantidad total de ofertas aceptadas por cada cliente\n\n#### Lugar\n\n- NumWebPurchases: Número de compras realizadas a través del sitio web de la empresa\n- NumCatalogPurchases: Número de compras realizadas utilizando un catálogo\n- NumStorePurchases: Número de compras realizadas directamente en tiendas\n- NumWebVisitsMonth: Número de visitas al sitio web de la empresa en el último mes ",
   "metadata": {
    "cell_id": "8b5f5d27-757f-46e4-a160-9287fd6d6a47",
    "tags": [],
    "deepnote_app_coordinates": {
     "x": 0,
     "y": 84,
     "w": 12,
     "h": 7
    },
    "deepnote_cell_type": "markdown",
    "deepnote_cell_height": 977.796875
   }
  },
  {
   "cell_type": "markdown",
   "source": "## Limpieza de datos",
   "metadata": {
    "cell_id": "059f1f5f-ec9d-44f3-8d6c-fbf0ced2b264",
    "tags": [],
    "deepnote_app_coordinates": {
     "x": 0,
     "y": 96,
     "w": 12,
     "h": 5
    },
    "deepnote_cell_type": "markdown",
    "deepnote_cell_height": 70
   }
  },
  {
   "cell_type": "code",
   "metadata": {
    "cell_id": "e4cc9e6b-4533-4824-929d-ab0354761c19",
    "tags": [],
    "deepnote_to_be_reexecuted": false,
    "source_hash": "1c8be418",
    "execution_start": 1647642506043,
    "execution_millis": 10,
    "deepnote_app_coordinates": {
     "x": 0,
     "y": 91,
     "w": 12,
     "h": 5
    },
    "deepnote_cell_type": "code",
    "deepnote_cell_height": 351
   },
   "source": "remove_list = ['YOLO','Absurd','Alone']\ndf_customers = df_customers[~df_customers['Marital_Status'].isin(remove_list)]\n\ndf_customers= df_customers[df_customers['Year_Birth']>1930]\n\ndf_customers= df_customers[df_customers['Income']<100000]\n\ndf_customers= df_customers[df_customers['NumWebVisitsMonth']<12]\n\ndf_customers= df_customers[df_customers['Complain']<1]\n\ndf_customers['Total_Accepted'] = df_customers['AcceptedCmp1'] + df_customers['AcceptedCmp2'] + df_customers['AcceptedCmp3'] + df_customers['AcceptedCmp4'] + df_customers['AcceptedCmp5']\n\ndf_customers.drop(columns=['Complain', 'Z_CostContact','Z_Revenue','ID','Dt_Customer'],inplace = True)\n\ndf_customers['Education'].replace(['Basic','Graduation','2n Cycle','Master', 'PhD'],[0, 1, 2 , 3 , 4 ], inplace=True)",
   "execution_count": null,
   "outputs": []
  },
  {
   "cell_type": "code",
   "metadata": {
    "cell_id": "bdf052d8-11a3-4457-8040-6ed58f52a2f5",
    "tags": [],
    "deepnote_to_be_reexecuted": false,
    "source_hash": "50c6111e",
    "execution_start": 1647642506057,
    "execution_millis": 7,
    "deepnote_app_coordinates": {
     "x": 0,
     "y": 102,
     "w": 12,
     "h": 5
    },
    "deepnote_cell_type": "code",
    "deepnote_cell_height": 117
   },
   "source": "df_customers_dummies = pd.get_dummies(df_customers['Marital_Status'])\ndf_customers = pd.concat([df_customers,df_customers_dummies],axis=1)\ndf_customers.drop(columns = ['Marital_Status'],inplace=True)",
   "execution_count": null,
   "outputs": []
  },
  {
   "cell_type": "code",
   "metadata": {
    "cell_id": "dd0cd3b0-d8af-4fb3-9d82-4afa871ae124",
    "tags": [],
    "deepnote_to_be_reexecuted": false,
    "source_hash": "dde9d0ef",
    "execution_start": 1647642506069,
    "execution_millis": 6889,
    "deepnote_app_coordinates": {
     "x": 0,
     "y": 78,
     "w": 12,
     "h": 5
    },
    "deepnote_cell_type": "code",
    "deepnote_cell_height": 8667,
    "deepnote_output_heights": [
     265,
     264,
     265,
     264,
     264,
     264,
     264,
     264,
     264,
     264,
     264,
     266,
     264,
     264,
     264,
     264,
     268,
     264,
     264,
     264,
     264,
     264,
     264,
     265,
     265,
     264,
     264,
     264,
     264
    ]
   },
   "source": "for column in df_customers.columns:\n    sns.histplot(x= column,data = df_customers)\n    plt.show()",
   "execution_count": null,
   "outputs": [
    {
     "data": {
      "text/plain": "<Figure size 432x288 with 1 Axes>",
      "image/png": "[encoded data removed]"
     },
     "metadata": {
      "needs_background": "light",
      "image/png": {
       "width": 389,
       "height": 263
      }
     },
     "output_type": "display_data"
    },
    {
     "data": {
      "text/plain": "<Figure size 432x288 with 1 Axes>",
      "image/png": "[encoded data removed]"
     },
     "metadata": {
      "needs_background": "light",
      "image/png": {
       "width": 395,
       "height": 262
      }
     },
     "output_type": "display_data"
    },
    {
     "data": {
      "text/plain": "<Figure size 432x288 with 1 Axes>",
      "image/png": "[encoded data removed]"
     },
     "metadata": {
      "needs_background": "light",
      "image/png": {
       "width": 396,
       "height": 263
      }
     },
     "output_type": "display_data"
    },
    {
     "data": {
      "text/plain": "<Figure size 432x288 with 1 Axes>",
      "image/png": "[encoded data removed]"
     },
     "metadata": {
      "needs_background": "light",
      "image/png": {
       "width": 395,
       "height": 262
      }
     },
     "output_type": "display_data"
    },
    {
     "data": {
      "text/plain": "<Figure size 432x288 with 1 Axes>",
      "image/png": "[encoded data removed]"
     },
     "metadata": {
      "needs_background": "light",
      "image/png": {
       "width": 395,
       "height": 262
      }
     },
     "output_type": "display_data"
    },
    {
     "data": {
      "text/plain": "<Figure size 432x288 with 1 Axes>",
      "image/png": "[encoded data removed]"
     },
     "metadata": {
      "needs_background": "light",
      "image/png": {
       "width": 389,
       "height": 262
      }
     },
     "output_type": "display_data"
    },
    {
     "data": {
      "text/plain": "<Figure size 432x288 with 1 Axes>",
      "image/png": "[encoded data removed]"
     },
     "metadata": {
      "needs_background": "light",
      "image/png": {
       "width": 389,
       "height": 262
      }
     },
     "output_type": "display_data"
    },
    {
     "data": {
      "text/plain": "<Figure size 432x288 with 1 Axes>",
      "image/png": "[encoded data removed]"
     },
     "metadata": {
      "needs_background": "light",
      "image/png": {
       "width": 389,
       "height": 262
      }
     },
     "output_type": "display_data"
    },
    {
     "data": {
      "text/plain": "<Figure size 432x288 with 1 Axes>",
      "image/png": "[encoded data removed]"
     },
     "metadata": {
      "needs_background": "light",
      "image/png": {
       "width": 390,
       "height": 262
      }
     },
     "output_type": "display_data"
    },
    {
     "data": {
      "text/plain": "<Figure size 432x288 with 1 Axes>",
      "image/png": "[encoded data removed]"
     },
     "metadata": {
      "needs_background": "light",
      "image/png": {
       "width": 389,
       "height": 262
      }
     },
     "output_type": "display_data"
    },
    {
     "data": {
      "text/plain": "<Figure size 432x288 with 1 Axes>",
      "image/png": "[encoded data removed]"
     },
     "metadata": {
      "needs_background": "light",
      "image/png": {
       "width": 389,
       "height": 262
      }
     },
     "output_type": "display_data"
    },
    {
     "data": {
      "text/plain": "<Figure size 432x288 with 1 Axes>",
      "image/png": "[encoded data removed]"
     },
     "metadata": {
      "needs_background": "light",
      "image/png": {
       "width": 389,
       "height": 264
      }
     },
     "output_type": "display_data"
    },
    {
     "data": {
      "text/plain": "<Figure size 432x288 with 1 Axes>",
      "image/png": "[encoded data removed]"
     },
     "metadata": {
      "needs_background": "light",
      "image/png": {
       "width": 389,
       "height": 262
      }
     },
     "output_type": "display_data"
    },
    {
     "data": {
      "text/plain": "<Figure size 432x288 with 1 Axes>",
      "image/png": "[encoded data removed]"
     },
     "metadata": {
      "needs_background": "light",
      "image/png": {
       "width": 389,
       "height": 262
      }
     },
     "output_type": "display_data"
    },
    {
     "data": {
      "text/plain": "<Figure size 432x288 with 1 Axes>",
      "image/png": "[encoded data removed]"
     },
     "metadata": {
      "needs_background": "light",
      "image/png": {
       "width": 389,
       "height": 262
      }
     },
     "output_type": "display_data"
    },
    {
     "data": {
      "text/plain": "<Figure size 432x288 with 1 Axes>",
      "image/png": "[encoded data removed]"
     },
     "metadata": {
      "needs_background": "light",
      "image/png": {
       "width": 389,
       "height": 262
      }
     },
     "output_type": "display_data"
    },
    {
     "data": {
      "text/plain": "<Figure size 432x288 with 1 Axes>",
      "image/png": "[encoded data removed]"
     },
     "metadata": {
      "needs_background": "light",
      "image/png": {
       "width": 389,
       "height": 266
      }
     },
     "output_type": "display_data"
    },
    {
     "data": {
      "text/plain": "<Figure size 432x288 with 1 Axes>",
      "image/png": "[encoded data removed]"
     },
     "metadata": {
      "needs_background": "light",
      "image/png": {
       "width": 395,
       "height": 262
      }
     },
     "output_type": "display_data"
    },
    {
     "data": {
      "text/plain": "<Figure size 432x288 with 1 Axes>",
      "image/png": "[encoded data removed]"
     },
     "metadata": {
      "needs_background": "light",
      "image/png": {
       "width": 395,
       "height": 262
      }
     },
     "output_type": "display_data"
    },
    {
     "data": {
      "text/plain": "<Figure size 432x288 with 1 Axes>",
      "image/png": "[encoded data removed]"
     },
     "metadata": {
      "needs_background": "light",
      "image/png": {
       "width": 395,
       "height": 262
      }
     },
     "output_type": "display_data"
    },
    {
     "data": {
      "text/plain": "<Figure size 432x288 with 1 Axes>",
      "image/png": "[encoded data removed]"
     },
     "metadata": {
      "needs_background": "light",
      "image/png": {
       "width": 395,
       "height": 262
      }
     },
     "output_type": "display_data"
    },
    {
     "data": {
      "text/plain": "<Figure size 432x288 with 1 Axes>",
      "image/png": "[encoded data removed]"
     },
     "metadata": {
      "needs_background": "light",
      "image/png": {
       "width": 395,
       "height": 262
      }
     },
     "output_type": "display_data"
    },
    {
     "data": {
      "text/plain": "<Figure size 432x288 with 1 Axes>",
      "image/png": "[encoded data removed]"
     },
     "metadata": {
      "needs_background": "light",
      "image/png": {
       "width": 395,
       "height": 262
      }
     },
     "output_type": "display_data"
    },
    {
     "data": {
      "text/plain": "<Figure size 432x288 with 1 Axes>",
      "image/png": "[encoded data removed]"
     },
     "metadata": {
      "needs_background": "light",
      "image/png": {
       "width": 395,
       "height": 263
      }
     },
     "output_type": "display_data"
    },
    {
     "data": {
      "text/plain": "<Figure size 432x288 with 1 Axes>",
      "image/png": "[encoded data removed]"
     },
     "metadata": {
      "needs_background": "light",
      "image/png": {
       "width": 395,
       "height": 263
      }
     },
     "output_type": "display_data"
    },
    {
     "data": {
      "text/plain": "<Figure size 432x288 with 1 Axes>",
      "image/png": "[encoded data removed]"
     },
     "metadata": {
      "needs_background": "light",
      "image/png": {
       "width": 395,
       "height": 262
      }
     },
     "output_type": "display_data"
    },
    {
     "data": {
      "text/plain": "<Figure size 432x288 with 1 Axes>",
      "image/png": "[encoded data removed]"
     },
     "metadata": {
      "needs_background": "light",
      "image/png": {
       "width": 395,
       "height": 262
      }
     },
     "output_type": "display_data"
    },
    {
     "data": {
      "text/plain": "<Figure size 432x288 with 1 Axes>",
      "image/png": "[encoded data removed]"
     },
     "metadata": {
      "needs_background": "light",
      "image/png": {
       "width": 395,
       "height": 262
      }
     },
     "output_type": "display_data"
    },
    {
     "data": {
      "text/plain": "<Figure size 432x288 with 1 Axes>",
      "image/png": "[encoded data removed]"
     },
     "metadata": {
      "needs_background": "light",
      "image/png": {
       "width": 395,
       "height": 262
      }
     },
     "output_type": "display_data"
    }
   ]
  },
  {
   "cell_type": "markdown",
   "source": "## Parte 1: Modelo de agrupamiento\n\n",
   "metadata": {
    "tags": [],
    "cell_id": "00012-0f738981-a5b9-464a-aa13-3cc2e51ad1cd",
    "deepnote_app_coordinates": {
     "x": 0,
     "y": 48,
     "w": 12,
     "h": 5
    },
    "deepnote_cell_type": "markdown",
    "deepnote_cell_height": 70
   }
  },
  {
   "cell_type": "code",
   "metadata": {
    "tags": [],
    "deepnote_to_be_reexecuted": false,
    "source_hash": "4dae9c00",
    "execution_start": 1647642512955,
    "cell_id": "00014-5d82a259-989d-4ec1-b955-4242538cef66",
    "execution_millis": 110,
    "deepnote_app_coordinates": {
     "x": 0,
     "y": 54,
     "w": 12,
     "h": 5
    },
    "deepnote_cell_type": "code",
    "deepnote_cell_height": 499.796875
   },
   "source": "df_customers_KMeans = df_customers.copy()\n\nfor column in df_customers.columns:\n    scaler = MinMaxScaler()\n    df_customers_KMeans[column] = scaler.fit_transform(df_customers[column].values.reshape(-1,1))\ndf_customers_KMeans.head(5)",
   "execution_count": null,
   "outputs": [
    {
     "output_type": "execute_result",
     "execution_count": 7,
     "data": {
      "application/vnd.deepnote.dataframe.v3+json": {
       "column_count": 29,
       "row_count": 5,
       "columns": [
        {
         "name": "Year_Birth",
         "dtype": "float64",
         "stats": {
          "unique_count": 5,
          "nan_count": 0,
          "min": "0.25",
          "max": "0.7857142857142847",
          "histogram": [
           {
            "bin_start": 0.25,
            "bin_end": 0.3035714285714285,
            "count": 1
           },
           {
            "bin_start": 0.3035714285714285,
            "bin_end": 0.35714285714285693,
            "count": 1
           },
           {
            "bin_start": 0.35714285714285693,
            "bin_end": 0.4107142857142854,
            "count": 0
           },
           {
            "bin_start": 0.4107142857142854,
            "bin_end": 0.46428571428571386,
            "count": 1
           },
           {
            "bin_start": 0.46428571428571386,
            "bin_end": 0.5178571428571423,
            "count": 0
           },
           {
            "bin_start": 0.5178571428571423,
            "bin_end": 0.5714285714285708,
            "count": 0
           },
           {
            "bin_start": 0.5714285714285708,
            "bin_end": 0.6249999999999993,
            "count": 0
           },
           {
            "bin_start": 0.6249999999999993,
            "bin_end": 0.6785714285714277,
            "count": 0
           },
           {
            "bin_start": 0.6785714285714277,
            "bin_end": 0.7321428571428563,
            "count": 0
           },
           {
            "bin_start": 0.7321428571428563,
            "bin_end": 0.7857142857142847,
            "count": 2
           }
          ]
         }
        },
        {
         "name": "Education",
         "dtype": "float64",
         "stats": {
          "unique_count": 2,
          "nan_count": 0,
          "min": "0.25",
          "max": "1.0",
          "histogram": [
           {
            "bin_start": 0.25,
            "bin_end": 0.325,
            "count": 4
           },
           {
            "bin_start": 0.325,
            "bin_end": 0.4,
            "count": 0
           },
           {
            "bin_start": 0.4,
            "bin_end": 0.475,
            "count": 0
           },
           {
            "bin_start": 0.475,
            "bin_end": 0.55,
            "count": 0
           },
           {
            "bin_start": 0.55,
            "bin_end": 0.625,
            "count": 0
           },
           {
            "bin_start": 0.625,
            "bin_end": 0.7,
            "count": 0
           },
           {
            "bin_start": 0.7,
            "bin_end": 0.775,
            "count": 0
           },
           {
            "bin_start": 0.775,
            "bin_end": 0.85,
            "count": 0
           },
           {
            "bin_start": 0.85,
            "bin_end": 0.9249999999999999,
            "count": 0
           },
           {
            "bin_start": 0.9249999999999999,
            "bin_end": 1,
            "count": 1
           }
          ]
         }
        },
        {
         "name": "Income",
         "dtype": "float64",
         "stats": {
          "unique_count": 5,
          "nan_count": 0,
          "min": "0.25120938440776497",
          "max": "0.7180110038409634",
          "histogram": [
           {
            "bin_start": 0.25120938440776497,
            "bin_end": 0.29788954635108483,
            "count": 1
           },
           {
            "bin_start": 0.29788954635108483,
            "bin_end": 0.34456970829440464,
            "count": 0
           },
           {
            "bin_start": 0.34456970829440464,
            "bin_end": 0.3912498702377245,
            "count": 0
           },
           {
            "bin_start": 0.3912498702377245,
            "bin_end": 0.4379300321810443,
            "count": 0
           },
           {
            "bin_start": 0.4379300321810443,
            "bin_end": 0.4846101941243642,
            "count": 1
           },
           {
            "bin_start": 0.4846101941243642,
            "bin_end": 0.531290356067684,
            "count": 0
           },
           {
            "bin_start": 0.531290356067684,
            "bin_end": 0.5779705180110039,
            "count": 0
           },
           {
            "bin_start": 0.5779705180110039,
            "bin_end": 0.6246506799543237,
            "count": 2
           },
           {
            "bin_start": 0.6246506799543237,
            "bin_end": 0.6713308418976436,
            "count": 0
           },
           {
            "bin_start": 0.6713308418976436,
            "bin_end": 0.7180110038409634,
            "count": 1
           }
          ]
         }
        },
        {
         "name": "Kidhome",
         "dtype": "float64",
         "stats": {
          "unique_count": 2,
          "nan_count": 0,
          "min": "0.0",
          "max": "0.5",
          "histogram": [
           {
            "bin_start": 0,
            "bin_end": 0.05,
            "count": 2
           },
           {
            "bin_start": 0.05,
            "bin_end": 0.1,
            "count": 0
           },
           {
            "bin_start": 0.1,
            "bin_end": 0.15000000000000002,
            "count": 0
           },
           {
            "bin_start": 0.15000000000000002,
            "bin_end": 0.2,
            "count": 0
           },
           {
            "bin_start": 0.2,
            "bin_end": 0.25,
            "count": 0
           },
           {
            "bin_start": 0.25,
            "bin_end": 0.30000000000000004,
            "count": 0
           },
           {
            "bin_start": 0.30000000000000004,
            "bin_end": 0.35000000000000003,
            "count": 0
           },
           {
            "bin_start": 0.35000000000000003,
            "bin_end": 0.4,
            "count": 0
           },
           {
            "bin_start": 0.4,
            "bin_end": 0.45,
            "count": 0
           },
           {
            "bin_start": 0.45,
            "bin_end": 0.5,
            "count": 3
           }
          ]
         }
        },
        {
         "name": "Teenhome",
         "dtype": "float64",
         "stats": {
          "unique_count": 2,
          "nan_count": 0,
          "min": "0.0",
          "max": "0.5",
          "histogram": [
           {
            "bin_start": 0,
            "bin_end": 0.05,
            "count": 4
           },
           {
            "bin_start": 0.05,
            "bin_end": 0.1,
            "count": 0
           },
           {
            "bin_start": 0.1,
            "bin_end": 0.15000000000000002,
            "count": 0
           },
           {
            "bin_start": 0.15000000000000002,
            "bin_end": 0.2,
            "count": 0
           },
           {
            "bin_start": 0.2,
            "bin_end": 0.25,
            "count": 0
           },
           {
            "bin_start": 0.25,
            "bin_end": 0.30000000000000004,
            "count": 0
           },
           {
            "bin_start": 0.30000000000000004,
            "bin_end": 0.35000000000000003,
            "count": 0
           },
           {
            "bin_start": 0.35000000000000003,
            "bin_end": 0.4,
            "count": 0
           },
           {
            "bin_start": 0.4,
            "bin_end": 0.45,
            "count": 0
           },
           {
            "bin_start": 0.45,
            "bin_end": 0.5,
            "count": 1
           }
          ]
         }
        },
        {
         "name": "Recency",
         "dtype": "float64",
         "stats": {
          "unique_count": 4,
          "nan_count": 0,
          "min": "0.26262626262626265",
          "max": "0.9494949494949496",
          "histogram": [
           {
            "bin_start": 0.26262626262626265,
            "bin_end": 0.33131313131313134,
            "count": 2
           },
           {
            "bin_start": 0.33131313131313134,
            "bin_end": 0.4,
            "count": 1
           },
           {
            "bin_start": 0.4,
            "bin_end": 0.46868686868686876,
            "count": 0
           },
           {
            "bin_start": 0.46868686868686876,
            "bin_end": 0.5373737373737375,
            "count": 0
           },
           {
            "bin_start": 0.5373737373737375,
            "bin_end": 0.6060606060606062,
            "count": 1
           },
           {
            "bin_start": 0.6060606060606062,
            "bin_end": 0.6747474747474749,
            "count": 0
           },
           {
            "bin_start": 0.6747474747474749,
            "bin_end": 0.7434343434343436,
            "count": 0
           },
           {
            "bin_start": 0.7434343434343436,
            "bin_end": 0.8121212121212122,
            "count": 0
           },
           {
            "bin_start": 0.8121212121212122,
            "bin_end": 0.8808080808080809,
            "count": 0
           },
           {
            "bin_start": 0.8808080808080809,
            "bin_end": 0.9494949494949496,
            "count": 1
           }
          ]
         }
        },
        {
         "name": "MntWines",
         "dtype": "float64",
         "stats": {
          "unique_count": 4,
          "nan_count": 0,
          "min": "0.007367716008037508",
          "max": "0.4253181513730743",
          "histogram": [
           {
            "bin_start": 0.007367716008037508,
            "bin_end": 0.04916275954454119,
            "count": 2
           },
           {
            "bin_start": 0.04916275954454119,
            "bin_end": 0.09095780308104488,
            "count": 0
           },
           {
            "bin_start": 0.09095780308104488,
            "bin_end": 0.13275284661754858,
            "count": 1
           },
           {
            "bin_start": 0.13275284661754858,
            "bin_end": 0.17454789015405225,
            "count": 0
           },
           {
            "bin_start": 0.17454789015405225,
            "bin_end": 0.21634293369055593,
            "count": 0
           },
           {
            "bin_start": 0.21634293369055593,
            "bin_end": 0.2581379772270596,
            "count": 0
           },
           {
            "bin_start": 0.2581379772270596,
            "bin_end": 0.29993302076356326,
            "count": 1
           },
           {
            "bin_start": 0.29993302076356326,
            "bin_end": 0.34172806430006697,
            "count": 0
           },
           {
            "bin_start": 0.34172806430006697,
            "bin_end": 0.3835231078365707,
            "count": 0
           },
           {
            "bin_start": 0.3835231078365707,
            "bin_end": 0.4253181513730743,
            "count": 1
           }
          ]
         }
        },
        {
         "name": "MntFruits",
         "dtype": "float64",
         "stats": {
          "unique_count": 5,
          "nan_count": 0,
          "min": "0.005025125628140704",
          "max": "0.44221105527638194",
          "histogram": [
           {
            "bin_start": 0.005025125628140704,
            "bin_end": 0.04874371859296483,
            "count": 2
           },
           {
            "bin_start": 0.04874371859296483,
            "bin_end": 0.09246231155778895,
            "count": 0
           },
           {
            "bin_start": 0.09246231155778895,
            "bin_end": 0.13618090452261308,
            "count": 0
           },
           {
            "bin_start": 0.13618090452261308,
            "bin_end": 0.1798994974874372,
            "count": 0
           },
           {
            "bin_start": 0.1798994974874372,
            "bin_end": 0.2236180904522613,
            "count": 1
           },
           {
            "bin_start": 0.2236180904522613,
            "bin_end": 0.2673366834170855,
            "count": 1
           },
           {
            "bin_start": 0.2673366834170855,
            "bin_end": 0.3110552763819096,
            "count": 0
           },
           {
            "bin_start": 0.3110552763819096,
            "bin_end": 0.3547738693467337,
            "count": 0
           },
           {
            "bin_start": 0.3547738693467337,
            "bin_end": 0.3984924623115578,
            "count": 0
           },
           {
            "bin_start": 0.3984924623115578,
            "bin_end": 0.44221105527638194,
            "count": 1
           }
          ]
         }
        },
        {
         "name": "MntMeatProducts",
         "dtype": "float64",
         "stats": {
          "unique_count": 5,
          "nan_count": 0,
          "min": "0.003478260869565217",
          "max": "0.3165217391304348",
          "histogram": [
           {
            "bin_start": 0.003478260869565217,
            "bin_end": 0.034782608695652174,
            "count": 2
           },
           {
            "bin_start": 0.034782608695652174,
            "bin_end": 0.06608695652173914,
            "count": 0
           },
           {
            "bin_start": 0.06608695652173914,
            "bin_end": 0.0973913043478261,
            "count": 2
           },
           {
            "bin_start": 0.0973913043478261,
            "bin_end": 0.12869565217391304,
            "count": 0
           },
           {
            "bin_start": 0.12869565217391304,
            "bin_end": 0.16,
            "count": 0
           },
           {
            "bin_start": 0.16,
            "bin_end": 0.19130434782608696,
            "count": 0
           },
           {
            "bin_start": 0.19130434782608696,
            "bin_end": 0.22260869565217392,
            "count": 0
           },
           {
            "bin_start": 0.22260869565217392,
            "bin_end": 0.2539130434782609,
            "count": 0
           },
           {
            "bin_start": 0.2539130434782609,
            "bin_end": 0.2852173913043478,
            "count": 0
           },
           {
            "bin_start": 0.2852173913043478,
            "bin_end": 0.3165217391304348,
            "count": 1
           }
          ]
         }
        },
        {
         "name": "MntFishProducts",
         "dtype": "float64",
         "stats": {
          "unique_count": 5,
          "nan_count": 0,
          "min": "0.007722007722007722",
          "max": "0.6640926640926641",
          "histogram": [
           {
            "bin_start": 0.007722007722007722,
            "bin_end": 0.07335907335907337,
            "count": 2
           },
           {
            "bin_start": 0.07335907335907337,
            "bin_end": 0.13899613899613902,
            "count": 0
           },
           {
            "bin_start": 0.13899613899613902,
            "bin_end": 0.20463320463320467,
            "count": 1
           },
           {
            "bin_start": 0.20463320463320467,
            "bin_end": 0.2702702702702703,
            "count": 0
           },
           {
            "bin_start": 0.2702702702702703,
            "bin_end": 0.3359073359073359,
            "count": 0
           },
           {
            "bin_start": 0.3359073359073359,
            "bin_end": 0.4015444015444016,
            "count": 0
           },
           {
            "bin_start": 0.4015444015444016,
            "bin_end": 0.46718146718146725,
            "count": 1
           },
           {
            "bin_start": 0.46718146718146725,
            "bin_end": 0.5328185328185329,
            "count": 0
           },
           {
            "bin_start": 0.5328185328185329,
            "bin_end": 0.5984555984555985,
            "count": 0
           },
           {
            "bin_start": 0.5984555984555985,
            "bin_end": 0.6640926640926641,
            "count": 1
           }
          ]
         }
        },
        {
         "name": "MntSweetProducts",
         "dtype": "float64",
         "stats": {
          "unique_count": 5,
          "nan_count": 0,
          "min": "0.005050505050505051",
          "max": "0.4444444444444445",
          "histogram": [
           {
            "bin_start": 0.005050505050505051,
            "bin_end": 0.04898989898989899,
            "count": 2
           },
           {
            "bin_start": 0.04898989898989899,
            "bin_end": 0.09292929292929294,
            "count": 0
           },
           {
            "bin_start": 0.09292929292929294,
            "bin_end": 0.1368686868686869,
            "count": 2
           },
           {
            "bin_start": 0.1368686868686869,
            "bin_end": 0.18080808080808083,
            "count": 0
           },
           {
            "bin_start": 0.18080808080808083,
            "bin_end": 0.22474747474747478,
            "count": 0
           },
           {
            "bin_start": 0.22474747474747478,
            "bin_end": 0.2686868686868687,
            "count": 0
           },
           {
            "bin_start": 0.2686868686868687,
            "bin_end": 0.31262626262626264,
            "count": 0
           },
           {
            "bin_start": 0.31262626262626264,
            "bin_end": 0.3565656565656566,
            "count": 0
           },
           {
            "bin_start": 0.3565656565656566,
            "bin_end": 0.40050505050505053,
            "count": 0
           },
           {
            "bin_start": 0.40050505050505053,
            "bin_end": 0.4444444444444445,
            "count": 1
           }
          ]
         }
        },
        {
         "name": "MntGoldProds",
         "dtype": "float64",
         "stats": {
          "unique_count": 5,
          "nan_count": 0,
          "min": "0.01557632398753894",
          "max": "0.27414330218068533",
          "histogram": [
           {
            "bin_start": 0.01557632398753894,
            "bin_end": 0.04143302180685358,
            "count": 2
           },
           {
            "bin_start": 0.04143302180685358,
            "bin_end": 0.06728971962616821,
            "count": 1
           },
           {
            "bin_start": 0.06728971962616821,
            "bin_end": 0.09314641744548285,
            "count": 0
           },
           {
            "bin_start": 0.09314641744548285,
            "bin_end": 0.1190031152647975,
            "count": 0
           },
           {
            "bin_start": 0.1190031152647975,
            "bin_end": 0.14485981308411214,
            "count": 1
           },
           {
            "bin_start": 0.14485981308411214,
            "bin_end": 0.17071651090342677,
            "count": 0
           },
           {
            "bin_start": 0.17071651090342677,
            "bin_end": 0.19657320872274142,
            "count": 0
           },
           {
            "bin_start": 0.19657320872274142,
            "bin_end": 0.22242990654205605,
            "count": 0
           },
           {
            "bin_start": 0.22242990654205605,
            "bin_end": 0.24828660436137068,
            "count": 0
           },
           {
            "bin_start": 0.24828660436137068,
            "bin_end": 0.27414330218068533,
            "count": 1
           }
          ]
         }
        },
        {
         "name": "NumDealsPurchases",
         "dtype": "float64",
         "stats": {
          "unique_count": 4,
          "nan_count": 0,
          "min": "0.06666666666666667",
          "max": "0.3333333333333333",
          "histogram": [
           {
            "bin_start": 0.06666666666666667,
            "bin_end": 0.09333333333333332,
            "count": 1
           },
           {
            "bin_start": 0.09333333333333332,
            "bin_end": 0.12,
            "count": 0
           },
           {
            "bin_start": 0.12,
            "bin_end": 0.14666666666666667,
            "count": 2
           },
           {
            "bin_start": 0.14666666666666667,
            "bin_end": 0.17333333333333334,
            "count": 0
           },
           {
            "bin_start": 0.17333333333333334,
            "bin_end": 0.2,
            "count": 0
           },
           {
            "bin_start": 0.2,
            "bin_end": 0.22666666666666663,
            "count": 1
           },
           {
            "bin_start": 0.22666666666666663,
            "bin_end": 0.2533333333333333,
            "count": 0
           },
           {
            "bin_start": 0.2533333333333333,
            "bin_end": 0.27999999999999997,
            "count": 0
           },
           {
            "bin_start": 0.27999999999999997,
            "bin_end": 0.30666666666666664,
            "count": 0
           },
           {
            "bin_start": 0.30666666666666664,
            "bin_end": 0.3333333333333333,
            "count": 1
           }
          ]
         }
        },
        {
         "name": "NumWebPurchases",
         "dtype": "float64",
         "stats": {
          "unique_count": 4,
          "nan_count": 0,
          "min": "0.04",
          "max": "0.32",
          "histogram": [
           {
            "bin_start": 0.04,
            "bin_end": 0.068,
            "count": 1
           },
           {
            "bin_start": 0.068,
            "bin_end": 0.096,
            "count": 1
           },
           {
            "bin_start": 0.096,
            "bin_end": 0.12400000000000003,
            "count": 0
           },
           {
            "bin_start": 0.12400000000000003,
            "bin_end": 0.15200000000000002,
            "count": 0
           },
           {
            "bin_start": 0.15200000000000002,
            "bin_end": 0.18000000000000002,
            "count": 0
           },
           {
            "bin_start": 0.18000000000000002,
            "bin_end": 0.20800000000000005,
            "count": 1
           },
           {
            "bin_start": 0.20800000000000005,
            "bin_end": 0.23600000000000004,
            "count": 0
           },
           {
            "bin_start": 0.23600000000000004,
            "bin_end": 0.264,
            "count": 0
           },
           {
            "bin_start": 0.264,
            "bin_end": 0.29200000000000004,
            "count": 0
           },
           {
            "bin_start": 0.29200000000000004,
            "bin_end": 0.32,
            "count": 2
           }
          ]
         }
        },
        {
         "name": "NumCatalogPurchases",
         "dtype": "float64",
         "stats": {
          "unique_count": 5,
          "nan_count": 0,
          "min": "0.0",
          "max": "0.3571428571428571",
          "histogram": [
           {
            "bin_start": 0,
            "bin_end": 0.03571428571428571,
            "count": 1
           },
           {
            "bin_start": 0.03571428571428571,
            "bin_end": 0.07142857142857142,
            "count": 1
           },
           {
            "bin_start": 0.07142857142857142,
            "bin_end": 0.10714285714285714,
            "count": 1
           },
           {
            "bin_start": 0.10714285714285714,
            "bin_end": 0.14285714285714285,
            "count": 1
           },
           {
            "bin_start": 0.14285714285714285,
            "bin_end": 0.17857142857142855,
            "count": 0
           },
           {
            "bin_start": 0.17857142857142855,
            "bin_end": 0.21428571428571427,
            "count": 0
           },
           {
            "bin_start": 0.21428571428571427,
            "bin_end": 0.25,
            "count": 0
           },
           {
            "bin_start": 0.25,
            "bin_end": 0.2857142857142857,
            "count": 0
           },
           {
            "bin_start": 0.2857142857142857,
            "bin_end": 0.3214285714285714,
            "count": 0
           },
           {
            "bin_start": 0.3214285714285714,
            "bin_end": 0.3571428571428571,
            "count": 1
           }
          ]
         }
        },
        {
         "name": "NumStorePurchases",
         "dtype": "float64",
         "stats": {
          "unique_count": 4,
          "nan_count": 0,
          "min": "0.15384615384615385",
          "max": "0.7692307692307693",
          "histogram": [
           {
            "bin_start": 0.15384615384615385,
            "bin_end": 0.2153846153846154,
            "count": 1
           },
           {
            "bin_start": 0.2153846153846154,
            "bin_end": 0.27692307692307694,
            "count": 0
           },
           {
            "bin_start": 0.27692307692307694,
            "bin_end": 0.3384615384615385,
            "count": 2
           },
           {
            "bin_start": 0.3384615384615385,
            "bin_end": 0.4,
            "count": 0
           },
           {
            "bin_start": 0.4,
            "bin_end": 0.46153846153846156,
            "count": 0
           },
           {
            "bin_start": 0.46153846153846156,
            "bin_end": 0.5230769230769231,
            "count": 1
           },
           {
            "bin_start": 0.5230769230769231,
            "bin_end": 0.5846153846153846,
            "count": 0
           },
           {
            "bin_start": 0.5846153846153846,
            "bin_end": 0.6461538461538462,
            "count": 0
           },
           {
            "bin_start": 0.6461538461538462,
            "bin_end": 0.7076923076923077,
            "count": 0
           },
           {
            "bin_start": 0.7076923076923077,
            "bin_end": 0.7692307692307693,
            "count": 1
           }
          ]
         }
        },
        {
         "name": "NumWebVisitsMonth",
         "dtype": "float64",
         "stats": {
          "unique_count": 4,
          "nan_count": 0,
          "min": "0.4",
          "max": "0.7000000000000001",
          "histogram": [
           {
            "bin_start": 0.4,
            "bin_end": 0.43000000000000005,
            "count": 1
           },
           {
            "bin_start": 0.43000000000000005,
            "bin_end": 0.46,
            "count": 0
           },
           {
            "bin_start": 0.46,
            "bin_end": 0.49000000000000005,
            "count": 0
           },
           {
            "bin_start": 0.49000000000000005,
            "bin_end": 0.52,
            "count": 2
           },
           {
            "bin_start": 0.52,
            "bin_end": 0.55,
            "count": 0
           },
           {
            "bin_start": 0.55,
            "bin_end": 0.5800000000000001,
            "count": 0
           },
           {
            "bin_start": 0.5800000000000001,
            "bin_end": 0.6100000000000001,
            "count": 1
           },
           {
            "bin_start": 0.6100000000000001,
            "bin_end": 0.6400000000000001,
            "count": 0
           },
           {
            "bin_start": 0.6400000000000001,
            "bin_end": 0.6700000000000002,
            "count": 0
           },
           {
            "bin_start": 0.6700000000000002,
            "bin_end": 0.7000000000000001,
            "count": 1
           }
          ]
         }
        },
        {
         "name": "AcceptedCmp3",
         "dtype": "float64",
         "stats": {
          "unique_count": 1,
          "nan_count": 0,
          "min": "0.0",
          "max": "0.0",
          "histogram": [
           {
            "bin_start": -0.5,
            "bin_end": -0.4,
            "count": 0
           },
           {
            "bin_start": -0.4,
            "bin_end": -0.3,
            "count": 0
           },
           {
            "bin_start": -0.3,
            "bin_end": -0.19999999999999996,
            "count": 0
           },
           {
            "bin_start": -0.19999999999999996,
            "bin_end": -0.09999999999999998,
            "count": 0
           },
           {
            "bin_start": -0.09999999999999998,
            "bin_end": 0,
            "count": 0
           },
           {
            "bin_start": 0,
            "bin_end": 0.10000000000000009,
            "count": 5
           },
           {
            "bin_start": 0.10000000000000009,
            "bin_end": 0.20000000000000007,
            "count": 0
           },
           {
            "bin_start": 0.20000000000000007,
            "bin_end": 0.30000000000000004,
            "count": 0
           },
           {
            "bin_start": 0.30000000000000004,
            "bin_end": 0.4,
            "count": 0
           },
           {
            "bin_start": 0.4,
            "bin_end": 0.5,
            "count": 0
           }
          ]
         }
        },
        {
         "name": "AcceptedCmp4",
         "dtype": "float64",
         "stats": {
          "unique_count": 1,
          "nan_count": 0,
          "min": "0.0",
          "max": "0.0",
          "histogram": [
           {
            "bin_start": -0.5,
            "bin_end": -0.4,
            "count": 0
           },
           {
            "bin_start": -0.4,
            "bin_end": -0.3,
            "count": 0
           },
           {
            "bin_start": -0.3,
            "bin_end": -0.19999999999999996,
            "count": 0
           },
           {
            "bin_start": -0.19999999999999996,
            "bin_end": -0.09999999999999998,
            "count": 0
           },
           {
            "bin_start": -0.09999999999999998,
            "bin_end": 0,
            "count": 0
           },
           {
            "bin_start": 0,
            "bin_end": 0.10000000000000009,
            "count": 5
           },
           {
            "bin_start": 0.10000000000000009,
            "bin_end": 0.20000000000000007,
            "count": 0
           },
           {
            "bin_start": 0.20000000000000007,
            "bin_end": 0.30000000000000004,
            "count": 0
           },
           {
            "bin_start": 0.30000000000000004,
            "bin_end": 0.4,
            "count": 0
           },
           {
            "bin_start": 0.4,
            "bin_end": 0.5,
            "count": 0
           }
          ]
         }
        },
        {
         "name": "AcceptedCmp5",
         "dtype": "float64",
         "stats": {
          "unique_count": 1,
          "nan_count": 0,
          "min": "0.0",
          "max": "0.0",
          "histogram": [
           {
            "bin_start": -0.5,
            "bin_end": -0.4,
            "count": 0
           },
           {
            "bin_start": -0.4,
            "bin_end": -0.3,
            "count": 0
           },
           {
            "bin_start": -0.3,
            "bin_end": -0.19999999999999996,
            "count": 0
           },
           {
            "bin_start": -0.19999999999999996,
            "bin_end": -0.09999999999999998,
            "count": 0
           },
           {
            "bin_start": -0.09999999999999998,
            "bin_end": 0,
            "count": 0
           },
           {
            "bin_start": 0,
            "bin_end": 0.10000000000000009,
            "count": 5
           },
           {
            "bin_start": 0.10000000000000009,
            "bin_end": 0.20000000000000007,
            "count": 0
           },
           {
            "bin_start": 0.20000000000000007,
            "bin_end": 0.30000000000000004,
            "count": 0
           },
           {
            "bin_start": 0.30000000000000004,
            "bin_end": 0.4,
            "count": 0
           },
           {
            "bin_start": 0.4,
            "bin_end": 0.5,
            "count": 0
           }
          ]
         }
        },
        {
         "name": "AcceptedCmp1",
         "dtype": "float64",
         "stats": {
          "unique_count": 1,
          "nan_count": 0,
          "min": "0.0",
          "max": "0.0",
          "histogram": [
           {
            "bin_start": -0.5,
            "bin_end": -0.4,
            "count": 0
           },
           {
            "bin_start": -0.4,
            "bin_end": -0.3,
            "count": 0
           },
           {
            "bin_start": -0.3,
            "bin_end": -0.19999999999999996,
            "count": 0
           },
           {
            "bin_start": -0.19999999999999996,
            "bin_end": -0.09999999999999998,
            "count": 0
           },
           {
            "bin_start": -0.09999999999999998,
            "bin_end": 0,
            "count": 0
           },
           {
            "bin_start": 0,
            "bin_end": 0.10000000000000009,
            "count": 5
           },
           {
            "bin_start": 0.10000000000000009,
            "bin_end": 0.20000000000000007,
            "count": 0
           },
           {
            "bin_start": 0.20000000000000007,
            "bin_end": 0.30000000000000004,
            "count": 0
           },
           {
            "bin_start": 0.30000000000000004,
            "bin_end": 0.4,
            "count": 0
           },
           {
            "bin_start": 0.4,
            "bin_end": 0.5,
            "count": 0
           }
          ]
         }
        },
        {
         "name": "AcceptedCmp2",
         "dtype": "float64",
         "stats": {
          "unique_count": 1,
          "nan_count": 0,
          "min": "0.0",
          "max": "0.0",
          "histogram": [
           {
            "bin_start": -0.5,
            "bin_end": -0.4,
            "count": 0
           },
           {
            "bin_start": -0.4,
            "bin_end": -0.3,
            "count": 0
           },
           {
            "bin_start": -0.3,
            "bin_end": -0.19999999999999996,
            "count": 0
           },
           {
            "bin_start": -0.19999999999999996,
            "bin_end": -0.09999999999999998,
            "count": 0
           },
           {
            "bin_start": -0.09999999999999998,
            "bin_end": 0,
            "count": 0
           },
           {
            "bin_start": 0,
            "bin_end": 0.10000000000000009,
            "count": 5
           },
           {
            "bin_start": 0.10000000000000009,
            "bin_end": 0.20000000000000007,
            "count": 0
           },
           {
            "bin_start": 0.20000000000000007,
            "bin_end": 0.30000000000000004,
            "count": 0
           },
           {
            "bin_start": 0.30000000000000004,
            "bin_end": 0.4,
            "count": 0
           },
           {
            "bin_start": 0.4,
            "bin_end": 0.5,
            "count": 0
           }
          ]
         }
        },
        {
         "name": "Response",
         "dtype": "float64",
         "stats": {
          "unique_count": 2,
          "nan_count": 0,
          "min": "0.0",
          "max": "1.0",
          "histogram": [
           {
            "bin_start": 0,
            "bin_end": 0.1,
            "count": 4
           },
           {
            "bin_start": 0.1,
            "bin_end": 0.2,
            "count": 0
           },
           {
            "bin_start": 0.2,
            "bin_end": 0.30000000000000004,
            "count": 0
           },
           {
            "bin_start": 0.30000000000000004,
            "bin_end": 0.4,
            "count": 0
           },
           {
            "bin_start": 0.4,
            "bin_end": 0.5,
            "count": 0
           },
           {
            "bin_start": 0.5,
            "bin_end": 0.6000000000000001,
            "count": 0
           },
           {
            "bin_start": 0.6000000000000001,
            "bin_end": 0.7000000000000001,
            "count": 0
           },
           {
            "bin_start": 0.7000000000000001,
            "bin_end": 0.8,
            "count": 0
           },
           {
            "bin_start": 0.8,
            "bin_end": 0.9,
            "count": 0
           },
           {
            "bin_start": 0.9,
            "bin_end": 1,
            "count": 1
           }
          ]
         }
        },
        {
         "name": "Total_Accepted",
         "dtype": "float64",
         "stats": {
          "unique_count": 1,
          "nan_count": 0,
          "min": "0.0",
          "max": "0.0",
          "histogram": [
           {
            "bin_start": -0.5,
            "bin_end": -0.4,
            "count": 0
           },
           {
            "bin_start": -0.4,
            "bin_end": -0.3,
            "count": 0
           },
           {
            "bin_start": -0.3,
            "bin_end": -0.19999999999999996,
            "count": 0
           },
           {
            "bin_start": -0.19999999999999996,
            "bin_end": -0.09999999999999998,
            "count": 0
           },
           {
            "bin_start": -0.09999999999999998,
            "bin_end": 0,
            "count": 0
           },
           {
            "bin_start": 0,
            "bin_end": 0.10000000000000009,
            "count": 5
           },
           {
            "bin_start": 0.10000000000000009,
            "bin_end": 0.20000000000000007,
            "count": 0
           },
           {
            "bin_start": 0.20000000000000007,
            "bin_end": 0.30000000000000004,
            "count": 0
           },
           {
            "bin_start": 0.30000000000000004,
            "bin_end": 0.4,
            "count": 0
           },
           {
            "bin_start": 0.4,
            "bin_end": 0.5,
            "count": 0
           }
          ]
         }
        },
        {
         "name": "Divorced",
         "dtype": "float64",
         "stats": {
          "unique_count": 1,
          "nan_count": 0,
          "min": "0.0",
          "max": "0.0",
          "histogram": [
           {
            "bin_start": -0.5,
            "bin_end": -0.4,
            "count": 0
           },
           {
            "bin_start": -0.4,
            "bin_end": -0.3,
            "count": 0
           },
           {
            "bin_start": -0.3,
            "bin_end": -0.19999999999999996,
            "count": 0
           },
           {
            "bin_start": -0.19999999999999996,
            "bin_end": -0.09999999999999998,
            "count": 0
           },
           {
            "bin_start": -0.09999999999999998,
            "bin_end": 0,
            "count": 0
           },
           {
            "bin_start": 0,
            "bin_end": 0.10000000000000009,
            "count": 5
           },
           {
            "bin_start": 0.10000000000000009,
            "bin_end": 0.20000000000000007,
            "count": 0
           },
           {
            "bin_start": 0.20000000000000007,
            "bin_end": 0.30000000000000004,
            "count": 0
           },
           {
            "bin_start": 0.30000000000000004,
            "bin_end": 0.4,
            "count": 0
           },
           {
            "bin_start": 0.4,
            "bin_end": 0.5,
            "count": 0
           }
          ]
         }
        },
        {
         "name": "Married",
         "dtype": "float64",
         "stats": {
          "unique_count": 2,
          "nan_count": 0,
          "min": "0.0",
          "max": "1.0",
          "histogram": [
           {
            "bin_start": 0,
            "bin_end": 0.1,
            "count": 4
           },
           {
            "bin_start": 0.1,
            "bin_end": 0.2,
            "count": 0
           },
           {
            "bin_start": 0.2,
            "bin_end": 0.30000000000000004,
            "count": 0
           },
           {
            "bin_start": 0.30000000000000004,
            "bin_end": 0.4,
            "count": 0
           },
           {
            "bin_start": 0.4,
            "bin_end": 0.5,
            "count": 0
           },
           {
            "bin_start": 0.5,
            "bin_end": 0.6000000000000001,
            "count": 0
           },
           {
            "bin_start": 0.6000000000000001,
            "bin_end": 0.7000000000000001,
            "count": 0
           },
           {
            "bin_start": 0.7000000000000001,
            "bin_end": 0.8,
            "count": 0
           },
           {
            "bin_start": 0.8,
            "bin_end": 0.9,
            "count": 0
           },
           {
            "bin_start": 0.9,
            "bin_end": 1,
            "count": 1
           }
          ]
         }
        },
        {
         "name": "Single",
         "dtype": "float64",
         "stats": {
          "unique_count": 2,
          "nan_count": 0,
          "min": "0.0",
          "max": "1.0",
          "histogram": [
           {
            "bin_start": 0,
            "bin_end": 0.1,
            "count": 3
           },
           {
            "bin_start": 0.1,
            "bin_end": 0.2,
            "count": 0
           },
           {
            "bin_start": 0.2,
            "bin_end": 0.30000000000000004,
            "count": 0
           },
           {
            "bin_start": 0.30000000000000004,
            "bin_end": 0.4,
            "count": 0
           },
           {
            "bin_start": 0.4,
            "bin_end": 0.5,
            "count": 0
           },
           {
            "bin_start": 0.5,
            "bin_end": 0.6000000000000001,
            "count": 0
           },
           {
            "bin_start": 0.6000000000000001,
            "bin_end": 0.7000000000000001,
            "count": 0
           },
           {
            "bin_start": 0.7000000000000001,
            "bin_end": 0.8,
            "count": 0
           },
           {
            "bin_start": 0.8,
            "bin_end": 0.9,
            "count": 0
           },
           {
            "bin_start": 0.9,
            "bin_end": 1,
            "count": 2
           }
          ]
         }
        },
        {
         "name": "Together",
         "dtype": "float64",
         "stats": {
          "unique_count": 2,
          "nan_count": 0,
          "min": "0.0",
          "max": "1.0",
          "histogram": [
           {
            "bin_start": 0,
            "bin_end": 0.1,
            "count": 3
           },
           {
            "bin_start": 0.1,
            "bin_end": 0.2,
            "count": 0
           },
           {
            "bin_start": 0.2,
            "bin_end": 0.30000000000000004,
            "count": 0
           },
           {
            "bin_start": 0.30000000000000004,
            "bin_end": 0.4,
            "count": 0
           },
           {
            "bin_start": 0.4,
            "bin_end": 0.5,
            "count": 0
           },
           {
            "bin_start": 0.5,
            "bin_end": 0.6000000000000001,
            "count": 0
           },
           {
            "bin_start": 0.6000000000000001,
            "bin_end": 0.7000000000000001,
            "count": 0
           },
           {
            "bin_start": 0.7000000000000001,
            "bin_end": 0.8,
            "count": 0
           },
           {
            "bin_start": 0.8,
            "bin_end": 0.9,
            "count": 0
           },
           {
            "bin_start": 0.9,
            "bin_end": 1,
            "count": 2
           }
          ]
         }
        },
        {
         "name": "Widow",
         "dtype": "float64",
         "stats": {
          "unique_count": 1,
          "nan_count": 0,
          "min": "0.0",
          "max": "0.0",
          "histogram": [
           {
            "bin_start": -0.5,
            "bin_end": -0.4,
            "count": 0
           },
           {
            "bin_start": -0.4,
            "bin_end": -0.3,
            "count": 0
           },
           {
            "bin_start": -0.3,
            "bin_end": -0.19999999999999996,
            "count": 0
           },
           {
            "bin_start": -0.19999999999999996,
            "bin_end": -0.09999999999999998,
            "count": 0
           },
           {
            "bin_start": -0.09999999999999998,
            "bin_end": 0,
            "count": 0
           },
           {
            "bin_start": 0,
            "bin_end": 0.10000000000000009,
            "count": 5
           },
           {
            "bin_start": 0.10000000000000009,
            "bin_end": 0.20000000000000007,
            "count": 0
           },
           {
            "bin_start": 0.20000000000000007,
            "bin_end": 0.30000000000000004,
            "count": 0
           },
           {
            "bin_start": 0.30000000000000004,
            "bin_end": 0.4,
            "count": 0
           },
           {
            "bin_start": 0.4,
            "bin_end": 0.5,
            "count": 0
           }
          ]
         }
        },
        {
         "name": "_deepnote_index_column",
         "dtype": "int64"
        }
       ],
       "rows": [
        {
         "Year_Birth": 0.3035714285714306,
         "Education": 0.25,
         "Income": 0.5781272708398215,
         "Kidhome": 0,
         "Teenhome": 0,
         "Recency": 0.5858585858585859,
         "MntWines": 0.4253181513730743,
         "MntFruits": 0.44221105527638194,
         "MntMeatProducts": 0.3165217391304348,
         "MntFishProducts": 0.6640926640926641,
         "MntSweetProducts": 0.4444444444444445,
         "MntGoldProds": 0.27414330218068533,
         "NumDealsPurchases": 0.2,
         "NumWebPurchases": 0.32,
         "NumCatalogPurchases": 0.3571428571428571,
         "NumStorePurchases": 0.3076923076923077,
         "NumWebVisitsMonth": 0.7000000000000001,
         "AcceptedCmp3": 0,
         "AcceptedCmp4": 0,
         "AcceptedCmp5": 0,
         "AcceptedCmp1": 0,
         "AcceptedCmp2": 0,
         "Response": 1,
         "Total_Accepted": 0,
         "Divorced": 0,
         "Married": 0,
         "Single": 1,
         "Together": 0,
         "Widow": 0,
         "_deepnote_index_column": 0
        },
        {
         "Year_Birth": 0.25,
         "Education": 0.25,
         "Income": 0.45569396864943423,
         "Kidhome": 0.5,
         "Teenhome": 0.5,
         "Recency": 0.38383838383838387,
         "MntWines": 0.007367716008037508,
         "MntFruits": 0.005025125628140704,
         "MntMeatProducts": 0.003478260869565217,
         "MntFishProducts": 0.007722007722007722,
         "MntSweetProducts": 0.005050505050505051,
         "MntGoldProds": 0.018691588785046728,
         "NumDealsPurchases": 0.13333333333333333,
         "NumWebPurchases": 0.04,
         "NumCatalogPurchases": 0.03571428571428571,
         "NumStorePurchases": 0.15384615384615385,
         "NumWebVisitsMonth": 0.5,
         "AcceptedCmp3": 0,
         "AcceptedCmp4": 0,
         "AcceptedCmp5": 0,
         "AcceptedCmp1": 0,
         "AcceptedCmp2": 0,
         "Response": 0,
         "Total_Accepted": 0,
         "Divorced": 0,
         "Married": 0,
         "Single": 1,
         "Together": 0,
         "Widow": 0,
         "_deepnote_index_column": 1
        },
        {
         "Year_Birth": 0.4464285714285765,
         "Education": 0.25,
         "Income": 0.7180110038409634,
         "Kidhome": 0,
         "Teenhome": 0,
         "Recency": 0.26262626262626265,
         "MntWines": 0.2853315472203617,
         "MntFruits": 0.24623115577889448,
         "MntMeatProducts": 0.0736231884057971,
         "MntFishProducts": 0.4285714285714286,
         "MntSweetProducts": 0.10606060606060606,
         "MntGoldProds": 0.1308411214953271,
         "NumDealsPurchases": 0.06666666666666667,
         "NumWebPurchases": 0.32,
         "NumCatalogPurchases": 0.07142857142857142,
         "NumStorePurchases": 0.7692307692307693,
         "NumWebVisitsMonth": 0.4,
         "AcceptedCmp3": 0,
         "AcceptedCmp4": 0,
         "AcceptedCmp5": 0,
         "AcceptedCmp1": 0,
         "AcceptedCmp2": 0,
         "Response": 0,
         "Total_Accepted": 0,
         "Divorced": 0,
         "Married": 0,
         "Single": 0,
         "Together": 1,
         "Widow": 0,
         "_deepnote_index_column": 2
        },
        {
         "Year_Birth": 0.7857142857142847,
         "Education": 0.25,
         "Income": 0.25120938440776497,
         "Kidhome": 0.5,
         "Teenhome": 0,
         "Recency": 0.26262626262626265,
         "MntWines": 0.007367716008037508,
         "MntFruits": 0.020100502512562814,
         "MntMeatProducts": 0.011594202898550725,
         "MntFishProducts": 0.03861003861003861,
         "MntSweetProducts": 0.015151515151515152,
         "MntGoldProds": 0.01557632398753894,
         "NumDealsPurchases": 0.13333333333333333,
         "NumWebPurchases": 0.08,
         "NumCatalogPurchases": 0,
         "NumStorePurchases": 0.3076923076923077,
         "NumWebVisitsMonth": 0.6000000000000001,
         "AcceptedCmp3": 0,
         "AcceptedCmp4": 0,
         "AcceptedCmp5": 0,
         "AcceptedCmp1": 0,
         "AcceptedCmp2": 0,
         "Response": 0,
         "Total_Accepted": 0,
         "Divorced": 0,
         "Married": 0,
         "Single": 0,
         "Together": 1,
         "Widow": 0,
         "_deepnote_index_column": 3
        },
        {
         "Year_Birth": 0.7321428571428612,
         "Education": 1,
         "Income": 0.5797363230561612,
         "Kidhome": 0.5,
         "Teenhome": 0,
         "Recency": 0.9494949494949496,
         "MntWines": 0.115874079035499,
         "MntFruits": 0.21608040201005024,
         "MntMeatProducts": 0.06840579710144927,
         "MntFishProducts": 0.1776061776061776,
         "MntSweetProducts": 0.13636363636363638,
         "MntGoldProds": 0.04672897196261682,
         "NumDealsPurchases": 0.3333333333333333,
         "NumWebPurchases": 0.2,
         "NumCatalogPurchases": 0.10714285714285714,
         "NumStorePurchases": 0.46153846153846156,
         "NumWebVisitsMonth": 0.5,
         "AcceptedCmp3": 0,
         "AcceptedCmp4": 0,
         "AcceptedCmp5": 0,
         "AcceptedCmp1": 0,
         "AcceptedCmp2": 0,
         "Response": 0,
         "Total_Accepted": 0,
         "Divorced": 0,
         "Married": 1,
         "Single": 0,
         "Together": 0,
         "Widow": 0,
         "_deepnote_index_column": 4
        }
       ]
      },
      "text/plain": "   Year_Birth  Education    Income  Kidhome  Teenhome   Recency  MntWines  \\\n0    0.303571       0.25  0.578127      0.0       0.0  0.585859  0.425318   \n1    0.250000       0.25  0.455694      0.5       0.5  0.383838  0.007368   \n2    0.446429       0.25  0.718011      0.0       0.0  0.262626  0.285332   \n3    0.785714       0.25  0.251209      0.5       0.0  0.262626  0.007368   \n4    0.732143       1.00  0.579736      0.5       0.0  0.949495  0.115874   \n\n   MntFruits  MntMeatProducts  MntFishProducts  ...  AcceptedCmp5  \\\n0   0.442211         0.316522         0.664093  ...           0.0   \n1   0.005025         0.003478         0.007722  ...           0.0   \n2   0.246231         0.073623         0.428571  ...           0.0   \n3   0.020101         0.011594         0.038610  ...           0.0   \n4   0.216080         0.068406         0.177606  ...           0.0   \n\n   AcceptedCmp1  AcceptedCmp2  Response  Total_Accepted  Divorced  Married  \\\n0           0.0           0.0       1.0             0.0       0.0      0.0   \n1           0.0           0.0       0.0             0.0       0.0      0.0   \n2           0.0           0.0       0.0             0.0       0.0      0.0   \n3           0.0           0.0       0.0             0.0       0.0      0.0   \n4           0.0           0.0       0.0             0.0       0.0      1.0   \n\n   Single  Together  Widow  \n0     1.0       0.0    0.0  \n1     1.0       0.0    0.0  \n2     0.0       1.0    0.0  \n3     0.0       1.0    0.0  \n4     0.0       0.0    0.0  \n\n[5 rows x 29 columns]",
      "text/html": "<div>\n<style scoped>\n    .dataframe tbody tr th:only-of-type {\n        vertical-align: middle;\n    }\n\n    .dataframe tbody tr th {\n        vertical-align: top;\n    }\n\n    .dataframe thead th {\n        text-align: right;\n    }\n</style>\n<table border=\"1\" class=\"dataframe\">\n  <thead>\n    <tr style=\"text-align: right;\">\n      <th></th>\n      <th>Year_Birth</th>\n      <th>Education</th>\n      <th>Income</th>\n      <th>Kidhome</th>\n      <th>Teenhome</th>\n      <th>Recency</th>\n      <th>MntWines</th>\n      <th>MntFruits</th>\n      <th>MntMeatProducts</th>\n      <th>MntFishProducts</th>\n      <th>...</th>\n      <th>AcceptedCmp5</th>\n      <th>AcceptedCmp1</th>\n      <th>AcceptedCmp2</th>\n      <th>Response</th>\n      <th>Total_Accepted</th>\n      <th>Divorced</th>\n      <th>Married</th>\n      <th>Single</th>\n      <th>Together</th>\n      <th>Widow</th>\n    </tr>\n  </thead>\n  <tbody>\n    <tr>\n      <th>0</th>\n      <td>0.303571</td>\n      <td>0.25</td>\n      <td>0.578127</td>\n      <td>0.0</td>\n      <td>0.0</td>\n      <td>0.585859</td>\n      <td>0.425318</td>\n      <td>0.442211</td>\n      <td>0.316522</td>\n      <td>0.664093</td>\n      <td>...</td>\n      <td>0.0</td>\n      <td>0.0</td>\n      <td>0.0</td>\n      <td>1.0</td>\n      <td>0.0</td>\n      <td>0.0</td>\n      <td>0.0</td>\n      <td>1.0</td>\n      <td>0.0</td>\n      <td>0.0</td>\n    </tr>\n    <tr>\n      <th>1</th>\n      <td>0.250000</td>\n      <td>0.25</td>\n      <td>0.455694</td>\n      <td>0.5</td>\n      <td>0.5</td>\n      <td>0.383838</td>\n      <td>0.007368</td>\n      <td>0.005025</td>\n      <td>0.003478</td>\n      <td>0.007722</td>\n      <td>...</td>\n      <td>0.0</td>\n      <td>0.0</td>\n      <td>0.0</td>\n      <td>0.0</td>\n      <td>0.0</td>\n      <td>0.0</td>\n      <td>0.0</td>\n      <td>1.0</td>\n      <td>0.0</td>\n      <td>0.0</td>\n    </tr>\n    <tr>\n      <th>2</th>\n      <td>0.446429</td>\n      <td>0.25</td>\n      <td>0.718011</td>\n      <td>0.0</td>\n      <td>0.0</td>\n      <td>0.262626</td>\n      <td>0.285332</td>\n      <td>0.246231</td>\n      <td>0.073623</td>\n      <td>0.428571</td>\n      <td>...</td>\n      <td>0.0</td>\n      <td>0.0</td>\n      <td>0.0</td>\n      <td>0.0</td>\n      <td>0.0</td>\n      <td>0.0</td>\n      <td>0.0</td>\n      <td>0.0</td>\n      <td>1.0</td>\n      <td>0.0</td>\n    </tr>\n    <tr>\n      <th>3</th>\n      <td>0.785714</td>\n      <td>0.25</td>\n      <td>0.251209</td>\n      <td>0.5</td>\n      <td>0.0</td>\n      <td>0.262626</td>\n      <td>0.007368</td>\n      <td>0.020101</td>\n      <td>0.011594</td>\n      <td>0.038610</td>\n      <td>...</td>\n      <td>0.0</td>\n      <td>0.0</td>\n      <td>0.0</td>\n      <td>0.0</td>\n      <td>0.0</td>\n      <td>0.0</td>\n      <td>0.0</td>\n      <td>0.0</td>\n      <td>1.0</td>\n      <td>0.0</td>\n    </tr>\n    <tr>\n      <th>4</th>\n      <td>0.732143</td>\n      <td>1.00</td>\n      <td>0.579736</td>\n      <td>0.5</td>\n      <td>0.0</td>\n      <td>0.949495</td>\n      <td>0.115874</td>\n      <td>0.216080</td>\n      <td>0.068406</td>\n      <td>0.177606</td>\n      <td>...</td>\n      <td>0.0</td>\n      <td>0.0</td>\n      <td>0.0</td>\n      <td>0.0</td>\n      <td>0.0</td>\n      <td>0.0</td>\n      <td>1.0</td>\n      <td>0.0</td>\n      <td>0.0</td>\n      <td>0.0</td>\n    </tr>\n  </tbody>\n</table>\n<p>5 rows × 29 columns</p>\n</div>"
     },
     "metadata": {}
    }
   ]
  },
  {
   "cell_type": "code",
   "metadata": {
    "cell_id": "50ec19fb-b38f-4cb4-871d-faa317c459a2",
    "tags": [],
    "deepnote_to_be_reexecuted": false,
    "source_hash": "dd91e3fa",
    "execution_start": 1647642513086,
    "execution_millis": 3676,
    "deepnote_app_coordinates": {
     "x": 0,
     "y": 174,
     "w": 12,
     "h": 5
    },
    "deepnote_cell_type": "code",
    "deepnote_cell_height": 854,
    "deepnote_output_heights": [
     397
    ]
   },
   "source": "sum_sq_d = []\nK = range(1,11)\n\nfor k in K:\n    km = KMeans(n_clusters=k)\n    km = km.fit(df_customers_KMeans)\n    sum_sq_d.append(km.inertia_)\n    \nplt.figure(figsize=(8,6))\n\nplt.plot(K, sum_sq_d, 'rx-.')\n\nplt.xlabel('Number of Clusters, k', fontsize=12)\nplt.xticks(range(1,11), fontsize=12)\n\nplt.ylabel('Sum of Squared Distances', fontsize=12)\nplt.xticks(fontsize=12)\n\nplt.title('Elbow Method For Determining k', fontsize=16)\n\nplt.show()",
   "execution_count": null,
   "outputs": [
    {
     "data": {
      "text/plain": "<Figure size 576x432 with 1 Axes>",
      "image/png": "[encoded data removed]"
     },
     "metadata": {
      "needs_background": "light",
      "image/png": {
       "width": 510,
       "height": 395
      }
     },
     "output_type": "display_data"
    }
   ]
  },
  {
   "cell_type": "code",
   "metadata": {
    "cell_id": "3ba6883d-8a6a-41bd-9569-7705cda76091",
    "tags": [],
    "deepnote_to_be_reexecuted": false,
    "source_hash": "b2a01b3c",
    "execution_start": 1647642646702,
    "execution_millis": 435,
    "deepnote_app_coordinates": {
     "x": 0,
     "y": 108,
     "w": 12,
     "h": 5
    },
    "deepnote_cell_type": "code",
    "deepnote_cell_height": 589.796875
   },
   "source": "k = 5\n\nkmeans = KMeans(n_clusters=k, init='k-means++')\nkmeans.fit(df_customers_KMeans)\nlabels = kmeans.predict(df_customers_KMeans)\n\ndf_customers_KMeans['labels']=labels\n\ndf_customers_KMeans_grouped = df_customers_KMeans.groupby(['labels']).mean()\ndf_customers_KMeans_grouped['label'] = [0,1,2,3,4]\ndf_customers_KMeans_grouped.head(5)",
   "execution_count": null,
   "outputs": [
    {
     "output_type": "execute_result",
     "execution_count": 13,
     "data": {
      "application/vnd.deepnote.dataframe.v3+json": {
       "column_count": 30,
       "row_count": 5,
       "columns": [
        {
         "name": "Year_Birth",
         "dtype": "float64",
         "stats": {
          "unique_count": 5,
          "nan_count": 0,
          "min": "0.4390964995269649",
          "max": "0.5665160642570302",
          "histogram": [
           {
            "bin_start": 0.4390964995269649,
            "bin_end": 0.4518384559999714,
            "count": 1
           },
           {
            "bin_start": 0.4518384559999714,
            "bin_end": 0.46458041247297793,
            "count": 0
           },
           {
            "bin_start": 0.46458041247297793,
            "bin_end": 0.47732236894598445,
            "count": 1
           },
           {
            "bin_start": 0.47732236894598445,
            "bin_end": 0.490064325418991,
            "count": 0
           },
           {
            "bin_start": 0.490064325418991,
            "bin_end": 0.5028062818919975,
            "count": 1
           },
           {
            "bin_start": 0.5028062818919975,
            "bin_end": 0.5155482383650041,
            "count": 0
           },
           {
            "bin_start": 0.5155482383650041,
            "bin_end": 0.5282901948380105,
            "count": 0
           },
           {
            "bin_start": 0.5282901948380105,
            "bin_end": 0.5410321513110171,
            "count": 0
           },
           {
            "bin_start": 0.5410321513110171,
            "bin_end": 0.5537741077840236,
            "count": 0
           },
           {
            "bin_start": 0.5537741077840236,
            "bin_end": 0.5665160642570302,
            "count": 2
           }
          ]
         }
        },
        {
         "name": "Education",
         "dtype": "float64",
         "stats": {
          "unique_count": 5,
          "nan_count": 0,
          "min": "0.4918300653594771",
          "max": "0.5404624277456648",
          "histogram": [
           {
            "bin_start": 0.4918300653594771,
            "bin_end": 0.4966933015980959,
            "count": 2
           },
           {
            "bin_start": 0.4966933015980959,
            "bin_end": 0.5015565378367146,
            "count": 0
           },
           {
            "bin_start": 0.5015565378367146,
            "bin_end": 0.5064197740753335,
            "count": 0
           },
           {
            "bin_start": 0.5064197740753335,
            "bin_end": 0.5112830103139522,
            "count": 1
           },
           {
            "bin_start": 0.5112830103139522,
            "bin_end": 0.5161462465525709,
            "count": 0
           },
           {
            "bin_start": 0.5161462465525709,
            "bin_end": 0.5210094827911897,
            "count": 0
           },
           {
            "bin_start": 0.5210094827911897,
            "bin_end": 0.5258727190298085,
            "count": 0
           },
           {
            "bin_start": 0.5258727190298085,
            "bin_end": 0.5307359552684272,
            "count": 0
           },
           {
            "bin_start": 0.5307359552684272,
            "bin_end": 0.535599191507046,
            "count": 0
           },
           {
            "bin_start": 0.535599191507046,
            "bin_end": 0.5404624277456648,
            "count": 2
           }
          ]
         }
        },
        {
         "name": "Income",
         "dtype": "float64",
         "stats": {
          "unique_count": 5,
          "nan_count": 0,
          "min": "0.37059455511238354",
          "max": "0.7098084678810616",
          "histogram": [
           {
            "bin_start": 0.37059455511238354,
            "bin_end": 0.40451594638925137,
            "count": 1
           },
           {
            "bin_start": 0.40451594638925137,
            "bin_end": 0.43843733766611914,
            "count": 0
           },
           {
            "bin_start": 0.43843733766611914,
            "bin_end": 0.4723587289429869,
            "count": 0
           },
           {
            "bin_start": 0.4723587289429869,
            "bin_end": 0.5062801202198548,
            "count": 1
           },
           {
            "bin_start": 0.5062801202198548,
            "bin_end": 0.5402015114967226,
            "count": 2
           },
           {
            "bin_start": 0.5402015114967226,
            "bin_end": 0.5741229027735903,
            "count": 0
           },
           {
            "bin_start": 0.5741229027735903,
            "bin_end": 0.6080442940504581,
            "count": 0
           },
           {
            "bin_start": 0.6080442940504581,
            "bin_end": 0.6419656853273259,
            "count": 0
           },
           {
            "bin_start": 0.6419656853273259,
            "bin_end": 0.6758870766041938,
            "count": 0
           },
           {
            "bin_start": 0.6758870766041938,
            "bin_end": 0.7098084678810616,
            "count": 1
           }
          ]
         }
        },
        {
         "name": "Kidhome",
         "dtype": "float64",
         "stats": {
          "unique_count": 5,
          "nan_count": 0,
          "min": "0.03757225433526012",
          "max": "0.35843373493975905",
          "histogram": [
           {
            "bin_start": 0.03757225433526012,
            "bin_end": 0.06965840239571,
            "count": 1
           },
           {
            "bin_start": 0.06965840239571,
            "bin_end": 0.1017445504561599,
            "count": 0
           },
           {
            "bin_start": 0.1017445504561599,
            "bin_end": 0.13383069851660978,
            "count": 0
           },
           {
            "bin_start": 0.13383069851660978,
            "bin_end": 0.16591684657705968,
            "count": 0
           },
           {
            "bin_start": 0.16591684657705968,
            "bin_end": 0.1980029946375096,
            "count": 1
           },
           {
            "bin_start": 0.1980029946375096,
            "bin_end": 0.23008914269795946,
            "count": 2
           },
           {
            "bin_start": 0.23008914269795946,
            "bin_end": 0.26217529075840934,
            "count": 0
           },
           {
            "bin_start": 0.26217529075840934,
            "bin_end": 0.29426143881885924,
            "count": 0
           },
           {
            "bin_start": 0.29426143881885924,
            "bin_end": 0.32634758687930915,
            "count": 0
           },
           {
            "bin_start": 0.32634758687930915,
            "bin_end": 0.35843373493975905,
            "count": 1
           }
          ]
         }
        },
        {
         "name": "Teenhome",
         "dtype": "float64",
         "stats": {
          "unique_count": 5,
          "nan_count": 0,
          "min": "0.20261437908496732",
          "max": "0.30629139072847683",
          "histogram": [
           {
            "bin_start": 0.20261437908496732,
            "bin_end": 0.21298208024931828,
            "count": 1
           },
           {
            "bin_start": 0.21298208024931828,
            "bin_end": 0.22334978141366923,
            "count": 0
           },
           {
            "bin_start": 0.22334978141366923,
            "bin_end": 0.23371748257802016,
            "count": 0
           },
           {
            "bin_start": 0.23371748257802016,
            "bin_end": 0.24408518374237112,
            "count": 1
           },
           {
            "bin_start": 0.24408518374237112,
            "bin_end": 0.2544528849067221,
            "count": 0
           },
           {
            "bin_start": 0.2544528849067221,
            "bin_end": 0.26482058607107306,
            "count": 1
           },
           {
            "bin_start": 0.26482058607107306,
            "bin_end": 0.275188287235424,
            "count": 1
           },
           {
            "bin_start": 0.275188287235424,
            "bin_end": 0.2855559883997749,
            "count": 0
           },
           {
            "bin_start": 0.2855559883997749,
            "bin_end": 0.2959236895641259,
            "count": 0
           },
           {
            "bin_start": 0.2959236895641259,
            "bin_end": 0.30629139072847683,
            "count": 1
           }
          ]
         }
        },
        {
         "name": "Recency",
         "dtype": "float64",
         "stats": {
          "unique_count": 5,
          "nan_count": 0,
          "min": "0.4826297658667601",
          "max": "0.5076525541641822",
          "histogram": [
           {
            "bin_start": 0.4826297658667601,
            "bin_end": 0.4851320446965023,
            "count": 1
           },
           {
            "bin_start": 0.4851320446965023,
            "bin_end": 0.48763432352624453,
            "count": 0
           },
           {
            "bin_start": 0.48763432352624453,
            "bin_end": 0.4901366023559867,
            "count": 1
           },
           {
            "bin_start": 0.4901366023559867,
            "bin_end": 0.49263888118572896,
            "count": 0
           },
           {
            "bin_start": 0.49263888118572896,
            "bin_end": 0.49514116001547115,
            "count": 0
           },
           {
            "bin_start": 0.49514116001547115,
            "bin_end": 0.49764343884521334,
            "count": 0
           },
           {
            "bin_start": 0.49764343884521334,
            "bin_end": 0.5001457176749555,
            "count": 2
           },
           {
            "bin_start": 0.5001457176749555,
            "bin_end": 0.5026479965046978,
            "count": 0
           },
           {
            "bin_start": 0.5026479965046978,
            "bin_end": 0.50515027533444,
            "count": 0
           },
           {
            "bin_start": 0.50515027533444,
            "bin_end": 0.5076525541641822,
            "count": 1
           }
          ]
         }
        },
        {
         "name": "MntWines",
         "dtype": "float64",
         "stats": {
          "unique_count": 5,
          "nan_count": 0,
          "min": "0.06543925198449525",
          "max": "0.40037128952452483",
          "histogram": [
           {
            "bin_start": 0.06543925198449525,
            "bin_end": 0.09893245573849821,
            "count": 1
           },
           {
            "bin_start": 0.09893245573849821,
            "bin_end": 0.13242565949250118,
            "count": 0
           },
           {
            "bin_start": 0.13242565949250118,
            "bin_end": 0.16591886324650412,
            "count": 0
           },
           {
            "bin_start": 0.16591886324650412,
            "bin_end": 0.19941206700050707,
            "count": 1
           },
           {
            "bin_start": 0.19941206700050707,
            "bin_end": 0.23290527075451,
            "count": 2
           },
           {
            "bin_start": 0.23290527075451,
            "bin_end": 0.266398474508513,
            "count": 0
           },
           {
            "bin_start": 0.266398474508513,
            "bin_end": 0.29989167826251595,
            "count": 0
           },
           {
            "bin_start": 0.29989167826251595,
            "bin_end": 0.3333848820165189,
            "count": 0
           },
           {
            "bin_start": 0.3333848820165189,
            "bin_end": 0.36687808577052183,
            "count": 0
           },
           {
            "bin_start": 0.36687808577052183,
            "bin_end": 0.40037128952452483,
            "count": 1
           }
          ]
         }
        },
        {
         "name": "MntFruits",
         "dtype": "float64",
         "stats": {
          "unique_count": 5,
          "nan_count": 0,
          "min": "0.03277431333373696",
          "max": "0.2692073082173875",
          "histogram": [
           {
            "bin_start": 0.03277431333373696,
            "bin_end": 0.05641761282210202,
            "count": 1
           },
           {
            "bin_start": 0.05641761282210202,
            "bin_end": 0.08006091231046707,
            "count": 0
           },
           {
            "bin_start": 0.08006091231046707,
            "bin_end": 0.10370421179883213,
            "count": 0
           },
           {
            "bin_start": 0.10370421179883213,
            "bin_end": 0.12734751128719718,
            "count": 1
           },
           {
            "bin_start": 0.12734751128719718,
            "bin_end": 0.15099081077556223,
            "count": 2
           },
           {
            "bin_start": 0.15099081077556223,
            "bin_end": 0.17463411026392728,
            "count": 0
           },
           {
            "bin_start": 0.17463411026392728,
            "bin_end": 0.19827740975229233,
            "count": 0
           },
           {
            "bin_start": 0.19827740975229233,
            "bin_end": 0.22192070924065738,
            "count": 0
           },
           {
            "bin_start": 0.22192070924065738,
            "bin_end": 0.24556400872902243,
            "count": 0
           },
           {
            "bin_start": 0.24556400872902243,
            "bin_end": 0.2692073082173875,
            "count": 1
           }
          ]
         }
        },
        {
         "name": "MntMeatProducts",
         "dtype": "float64",
         "stats": {
          "unique_count": 5,
          "nan_count": 0,
          "min": "0.023042896222571444",
          "max": "0.19111166959872664",
          "histogram": [
           {
            "bin_start": 0.023042896222571444,
            "bin_end": 0.039849773560186964,
            "count": 1
           },
           {
            "bin_start": 0.039849773560186964,
            "bin_end": 0.05665665089780249,
            "count": 0
           },
           {
            "bin_start": 0.05665665089780249,
            "bin_end": 0.073463528235418,
            "count": 0
           },
           {
            "bin_start": 0.073463528235418,
            "bin_end": 0.09027040557303352,
            "count": 0
           },
           {
            "bin_start": 0.09027040557303352,
            "bin_end": 0.10707728291064904,
            "count": 2
           },
           {
            "bin_start": 0.10707728291064904,
            "bin_end": 0.12388416024826457,
            "count": 1
           },
           {
            "bin_start": 0.12388416024826457,
            "bin_end": 0.14069103758588009,
            "count": 0
           },
           {
            "bin_start": 0.14069103758588009,
            "bin_end": 0.1574979149234956,
            "count": 0
           },
           {
            "bin_start": 0.1574979149234956,
            "bin_end": 0.17430479226111112,
            "count": 0
           },
           {
            "bin_start": 0.17430479226111112,
            "bin_end": 0.19111166959872664,
            "count": 1
           }
          ]
         }
        },
        {
         "name": "MntFishProducts",
         "dtype": "float64",
         "stats": {
          "unique_count": 5,
          "nan_count": 0,
          "min": "0.038144857421965855",
          "max": "0.2817974869997991",
          "histogram": [
           {
            "bin_start": 0.038144857421965855,
            "bin_end": 0.06251012037974918,
            "count": 1
           },
           {
            "bin_start": 0.06251012037974918,
            "bin_end": 0.0868753833375325,
            "count": 0
           },
           {
            "bin_start": 0.0868753833375325,
            "bin_end": 0.11124064629531584,
            "count": 0
           },
           {
            "bin_start": 0.11124064629531584,
            "bin_end": 0.13560590925309918,
            "count": 0
           },
           {
            "bin_start": 0.13560590925309918,
            "bin_end": 0.15997117221088247,
            "count": 3
           },
           {
            "bin_start": 0.15997117221088247,
            "bin_end": 0.18433643516866582,
            "count": 0
           },
           {
            "bin_start": 0.18433643516866582,
            "bin_end": 0.20870169812644915,
            "count": 0
           },
           {
            "bin_start": 0.20870169812644915,
            "bin_end": 0.23306696108423247,
            "count": 0
           },
           {
            "bin_start": 0.23306696108423247,
            "bin_end": 0.2574322240420158,
            "count": 0
           },
           {
            "bin_start": 0.2574322240420158,
            "bin_end": 0.2817974869997991,
            "count": 1
           }
          ]
         }
        },
        {
         "name": "MntSweetProducts",
         "dtype": "float64",
         "stats": {
          "unique_count": 5,
          "nan_count": 0,
          "min": "0.03413654618473896",
          "max": "0.28355812459858704",
          "histogram": [
           {
            "bin_start": 0.03413654618473896,
            "bin_end": 0.059078704026123766,
            "count": 1
           },
           {
            "bin_start": 0.059078704026123766,
            "bin_end": 0.08402086186750857,
            "count": 0
           },
           {
            "bin_start": 0.08402086186750857,
            "bin_end": 0.10896301970889338,
            "count": 0
           },
           {
            "bin_start": 0.10896301970889338,
            "bin_end": 0.1339051775502782,
            "count": 1
           },
           {
            "bin_start": 0.1339051775502782,
            "bin_end": 0.158847335391663,
            "count": 2
           },
           {
            "bin_start": 0.158847335391663,
            "bin_end": 0.1837894932330478,
            "count": 0
           },
           {
            "bin_start": 0.1837894932330478,
            "bin_end": 0.20873165107443262,
            "count": 0
           },
           {
            "bin_start": 0.20873165107443262,
            "bin_end": 0.23367380891581743,
            "count": 0
           },
           {
            "bin_start": 0.23367380891581743,
            "bin_end": 0.2586159667572022,
            "count": 0
           },
           {
            "bin_start": 0.2586159667572022,
            "bin_end": 0.28355812459858704,
            "count": 1
           }
          ]
         }
        },
        {
         "name": "MntGoldProds",
         "dtype": "float64",
         "stats": {
          "unique_count": 5,
          "nan_count": 0,
          "min": "0.07584231005016953",
          "max": "0.21992328885527523",
          "histogram": [
           {
            "bin_start": 0.07584231005016953,
            "bin_end": 0.09025040793068011,
            "count": 1
           },
           {
            "bin_start": 0.09025040793068011,
            "bin_end": 0.10465850581119067,
            "count": 0
           },
           {
            "bin_start": 0.10465850581119067,
            "bin_end": 0.11906660369170124,
            "count": 0
           },
           {
            "bin_start": 0.11906660369170124,
            "bin_end": 0.1334747015722118,
            "count": 1
           },
           {
            "bin_start": 0.1334747015722118,
            "bin_end": 0.14788279945272237,
            "count": 1
           },
           {
            "bin_start": 0.14788279945272237,
            "bin_end": 0.16229089733323296,
            "count": 1
           },
           {
            "bin_start": 0.16229089733323296,
            "bin_end": 0.17669899521374352,
            "count": 0
           },
           {
            "bin_start": 0.17669899521374352,
            "bin_end": 0.1911070930942541,
            "count": 0
           },
           {
            "bin_start": 0.1911070930942541,
            "bin_end": 0.20551519097476467,
            "count": 0
           },
           {
            "bin_start": 0.20551519097476467,
            "bin_end": 0.21992328885527523,
            "count": 1
           }
          ]
         }
        },
        {
         "name": "NumDealsPurchases",
         "dtype": "float64",
         "stats": {
          "unique_count": 5,
          "nan_count": 0,
          "min": "0.1348747591522158",
          "max": "0.1713520749665328",
          "histogram": [
           {
            "bin_start": 0.1348747591522158,
            "bin_end": 0.1385224907336475,
            "count": 1
           },
           {
            "bin_start": 0.1385224907336475,
            "bin_end": 0.1421702223150792,
            "count": 1
           },
           {
            "bin_start": 0.1421702223150792,
            "bin_end": 0.1458179538965109,
            "count": 0
           },
           {
            "bin_start": 0.1458179538965109,
            "bin_end": 0.1494656854779426,
            "count": 0
           },
           {
            "bin_start": 0.1494656854779426,
            "bin_end": 0.1531134170593743,
            "count": 0
           },
           {
            "bin_start": 0.1531134170593743,
            "bin_end": 0.15676114864080598,
            "count": 1
           },
           {
            "bin_start": 0.15676114864080598,
            "bin_end": 0.1604088802222377,
            "count": 1
           },
           {
            "bin_start": 0.1604088802222377,
            "bin_end": 0.1640566118036694,
            "count": 0
           },
           {
            "bin_start": 0.1640566118036694,
            "bin_end": 0.1677043433851011,
            "count": 0
           },
           {
            "bin_start": 0.1677043433851011,
            "bin_end": 0.1713520749665328,
            "count": 1
           }
          ]
         }
        },
        {
         "name": "NumWebPurchases",
         "dtype": "float64",
         "stats": {
          "unique_count": 5,
          "nan_count": 0,
          "min": "0.12144578313253013",
          "max": "0.22658959537572257",
          "histogram": [
           {
            "bin_start": 0.12144578313253013,
            "bin_end": 0.13196016435684937,
            "count": 1
           },
           {
            "bin_start": 0.13196016435684937,
            "bin_end": 0.14247454558116862,
            "count": 0
           },
           {
            "bin_start": 0.14247454558116862,
            "bin_end": 0.15298892680548787,
            "count": 1
           },
           {
            "bin_start": 0.15298892680548787,
            "bin_end": 0.16350330802980712,
            "count": 0
           },
           {
            "bin_start": 0.16350330802980712,
            "bin_end": 0.17401768925412636,
            "count": 1
           },
           {
            "bin_start": 0.17401768925412636,
            "bin_end": 0.18453207047844558,
            "count": 1
           },
           {
            "bin_start": 0.18453207047844558,
            "bin_end": 0.19504645170276483,
            "count": 0
           },
           {
            "bin_start": 0.19504645170276483,
            "bin_end": 0.20556083292708408,
            "count": 0
           },
           {
            "bin_start": 0.20556083292708408,
            "bin_end": 0.21607521415140332,
            "count": 0
           },
           {
            "bin_start": 0.21607521415140332,
            "bin_end": 0.22658959537572257,
            "count": 1
           }
          ]
         }
        },
        {
         "name": "NumCatalogPurchases",
         "dtype": "float64",
         "stats": {
          "unique_count": 5,
          "nan_count": 0,
          "min": "0.03277395295467584",
          "max": "0.17908753096614366",
          "histogram": [
           {
            "bin_start": 0.03277395295467584,
            "bin_end": 0.04740531075582262,
            "count": 1
           },
           {
            "bin_start": 0.04740531075582262,
            "bin_end": 0.062036668556969404,
            "count": 0
           },
           {
            "bin_start": 0.062036668556969404,
            "bin_end": 0.07666802635811618,
            "count": 0
           },
           {
            "bin_start": 0.07666802635811618,
            "bin_end": 0.09129938415926298,
            "count": 0
           },
           {
            "bin_start": 0.09129938415926298,
            "bin_end": 0.10593074196040975,
            "count": 3
           },
           {
            "bin_start": 0.10593074196040975,
            "bin_end": 0.12056209976155652,
            "count": 0
           },
           {
            "bin_start": 0.12056209976155652,
            "bin_end": 0.13519345756270332,
            "count": 0
           },
           {
            "bin_start": 0.13519345756270332,
            "bin_end": 0.1498248153638501,
            "count": 0
           },
           {
            "bin_start": 0.1498248153638501,
            "bin_end": 0.16445617316499686,
            "count": 0
           },
           {
            "bin_start": 0.16445617316499686,
            "bin_end": 0.17908753096614366,
            "count": 1
           }
          ]
         }
        },
        {
         "name": "NumStorePurchases",
         "dtype": "float64",
         "stats": {
          "unique_count": 5,
          "nan_count": 0,
          "min": "0.2993512511584801",
          "max": "0.6742996887505558",
          "histogram": [
           {
            "bin_start": 0.2993512511584801,
            "bin_end": 0.3368460949176877,
            "count": 1
           },
           {
            "bin_start": 0.3368460949176877,
            "bin_end": 0.3743409386768952,
            "count": 0
           },
           {
            "bin_start": 0.3743409386768952,
            "bin_end": 0.4118357824361028,
            "count": 0
           },
           {
            "bin_start": 0.4118357824361028,
            "bin_end": 0.4493306261953104,
            "count": 2
           },
           {
            "bin_start": 0.4493306261953104,
            "bin_end": 0.486825469954518,
            "count": 1
           },
           {
            "bin_start": 0.486825469954518,
            "bin_end": 0.5243203137137256,
            "count": 0
           },
           {
            "bin_start": 0.5243203137137256,
            "bin_end": 0.5618151574729331,
            "count": 0
           },
           {
            "bin_start": 0.5618151574729331,
            "bin_end": 0.5993100012321406,
            "count": 0
           },
           {
            "bin_start": 0.5993100012321406,
            "bin_end": 0.6368048449913483,
            "count": 0
           },
           {
            "bin_start": 0.6368048449913483,
            "bin_end": 0.6742996887505558,
            "count": 1
           }
          ]
         }
        },
        {
         "name": "NumWebVisitsMonth",
         "dtype": "float64",
         "stats": {
          "unique_count": 5,
          "nan_count": 0,
          "min": "0.384971098265896",
          "max": "0.6377510040160643",
          "histogram": [
           {
            "bin_start": 0.384971098265896,
            "bin_end": 0.4102490888409128,
            "count": 1
           },
           {
            "bin_start": 0.4102490888409128,
            "bin_end": 0.43552707941592966,
            "count": 0
           },
           {
            "bin_start": 0.43552707941592966,
            "bin_end": 0.4608050699909465,
            "count": 0
           },
           {
            "bin_start": 0.4608050699909465,
            "bin_end": 0.4860830605659633,
            "count": 0
           },
           {
            "bin_start": 0.4860830605659633,
            "bin_end": 0.5113610511409802,
            "count": 0
           },
           {
            "bin_start": 0.5113610511409802,
            "bin_end": 0.536639041715997,
            "count": 3
           },
           {
            "bin_start": 0.536639041715997,
            "bin_end": 0.5619170322910139,
            "count": 0
           },
           {
            "bin_start": 0.5619170322910139,
            "bin_end": 0.5871950228660306,
            "count": 0
           },
           {
            "bin_start": 0.5871950228660306,
            "bin_end": 0.6124730134410474,
            "count": 0
           },
           {
            "bin_start": 0.6124730134410474,
            "bin_end": 0.6377510040160643,
            "count": 1
           }
          ]
         }
        },
        {
         "name": "AcceptedCmp3",
         "dtype": "float64",
         "stats": {
          "unique_count": 5,
          "nan_count": 0,
          "min": "0.06440071556350627",
          "max": "0.08092485549132948",
          "histogram": [
           {
            "bin_start": 0.06440071556350627,
            "bin_end": 0.06605312955628859,
            "count": 1
           },
           {
            "bin_start": 0.06605312955628859,
            "bin_end": 0.0677055435490709,
            "count": 0
           },
           {
            "bin_start": 0.0677055435490709,
            "bin_end": 0.06935795754185323,
            "count": 0
           },
           {
            "bin_start": 0.06935795754185323,
            "bin_end": 0.07101037153463555,
            "count": 1
           },
           {
            "bin_start": 0.07101037153463555,
            "bin_end": 0.07266278552741787,
            "count": 0
           },
           {
            "bin_start": 0.07266278552741787,
            "bin_end": 0.07431519952020019,
            "count": 0
           },
           {
            "bin_start": 0.07431519952020019,
            "bin_end": 0.07596761351298252,
            "count": 0
           },
           {
            "bin_start": 0.07596761351298252,
            "bin_end": 0.07762002750576484,
            "count": 0
           },
           {
            "bin_start": 0.07762002750576484,
            "bin_end": 0.07927244149854716,
            "count": 1
           },
           {
            "bin_start": 0.07927244149854716,
            "bin_end": 0.08092485549132948,
            "count": 2
           }
          ]
         }
        },
        {
         "name": "AcceptedCmp4",
         "dtype": "float64",
         "stats": {
          "unique_count": 5,
          "nan_count": 0,
          "min": "0.01606425702811245",
          "max": "0.15606936416184972",
          "histogram": [
           {
            "bin_start": 0.01606425702811245,
            "bin_end": 0.030064767741486174,
            "count": 1
           },
           {
            "bin_start": 0.030064767741486174,
            "bin_end": 0.0440652784548599,
            "count": 0
           },
           {
            "bin_start": 0.0440652784548599,
            "bin_end": 0.05806578916823362,
            "count": 0
           },
           {
            "bin_start": 0.05806578916823362,
            "bin_end": 0.07206629988160734,
            "count": 1
           },
           {
            "bin_start": 0.07206629988160734,
            "bin_end": 0.08606681059498109,
            "count": 1
           },
           {
            "bin_start": 0.08606681059498109,
            "bin_end": 0.1000673213083548,
            "count": 1
           },
           {
            "bin_start": 0.1000673213083548,
            "bin_end": 0.11406783202172852,
            "count": 0
           },
           {
            "bin_start": 0.11406783202172852,
            "bin_end": 0.12806834273510226,
            "count": 0
           },
           {
            "bin_start": 0.12806834273510226,
            "bin_end": 0.14206885344847597,
            "count": 0
           },
           {
            "bin_start": 0.14206885344847597,
            "bin_end": 0.15606936416184972,
            "count": 1
           }
          ]
         }
        },
        {
         "name": "AcceptedCmp5",
         "dtype": "float64",
         "stats": {
          "unique_count": 5,
          "nan_count": 0,
          "min": "0.0",
          "max": "0.1907514450867052",
          "histogram": [
           {
            "bin_start": 0,
            "bin_end": 0.019075144508670518,
            "count": 1
           },
           {
            "bin_start": 0.019075144508670518,
            "bin_end": 0.038150289017341035,
            "count": 0
           },
           {
            "bin_start": 0.038150289017341035,
            "bin_end": 0.05722543352601155,
            "count": 0
           },
           {
            "bin_start": 0.05722543352601155,
            "bin_end": 0.07630057803468207,
            "count": 3
           },
           {
            "bin_start": 0.07630057803468207,
            "bin_end": 0.09537572254335258,
            "count": 0
           },
           {
            "bin_start": 0.09537572254335258,
            "bin_end": 0.1144508670520231,
            "count": 0
           },
           {
            "bin_start": 0.1144508670520231,
            "bin_end": 0.13352601156069363,
            "count": 0
           },
           {
            "bin_start": 0.13352601156069363,
            "bin_end": 0.15260115606936414,
            "count": 0
           },
           {
            "bin_start": 0.15260115606936414,
            "bin_end": 0.17167630057803465,
            "count": 0
           },
           {
            "bin_start": 0.17167630057803465,
            "bin_end": 0.1907514450867052,
            "count": 1
           }
          ]
         }
        },
        {
         "name": "AcceptedCmp1",
         "dtype": "float64",
         "stats": {
          "unique_count": 5,
          "nan_count": 0,
          "min": "0.0",
          "max": "0.1791907514450867",
          "histogram": [
           {
            "bin_start": 0,
            "bin_end": 0.01791907514450867,
            "count": 1
           },
           {
            "bin_start": 0.01791907514450867,
            "bin_end": 0.03583815028901734,
            "count": 0
           },
           {
            "bin_start": 0.03583815028901734,
            "bin_end": 0.053757225433526006,
            "count": 2
           },
           {
            "bin_start": 0.053757225433526006,
            "bin_end": 0.07167630057803467,
            "count": 1
           },
           {
            "bin_start": 0.07167630057803467,
            "bin_end": 0.08959537572254334,
            "count": 0
           },
           {
            "bin_start": 0.08959537572254334,
            "bin_end": 0.10751445086705201,
            "count": 0
           },
           {
            "bin_start": 0.10751445086705201,
            "bin_end": 0.1254335260115607,
            "count": 0
           },
           {
            "bin_start": 0.1254335260115607,
            "bin_end": 0.14335260115606935,
            "count": 0
           },
           {
            "bin_start": 0.14335260115606935,
            "bin_end": 0.161271676300578,
            "count": 0
           },
           {
            "bin_start": 0.161271676300578,
            "bin_end": 0.1791907514450867,
            "count": 1
           }
          ]
         }
        },
        {
         "name": "AcceptedCmp2",
         "dtype": "float64",
         "stats": {
          "unique_count": 5,
          "nan_count": 0,
          "min": "0.0",
          "max": "0.02146690518783542",
          "histogram": [
           {
            "bin_start": 0,
            "bin_end": 0.002146690518783542,
            "count": 1
           },
           {
            "bin_start": 0.002146690518783542,
            "bin_end": 0.004293381037567084,
            "count": 0
           },
           {
            "bin_start": 0.004293381037567084,
            "bin_end": 0.006440071556350626,
            "count": 0
           },
           {
            "bin_start": 0.006440071556350626,
            "bin_end": 0.008586762075134168,
            "count": 0
           },
           {
            "bin_start": 0.008586762075134168,
            "bin_end": 0.01073345259391771,
            "count": 0
           },
           {
            "bin_start": 0.01073345259391771,
            "bin_end": 0.012880143112701251,
            "count": 1
           },
           {
            "bin_start": 0.012880143112701251,
            "bin_end": 0.015026833631484793,
            "count": 0
           },
           {
            "bin_start": 0.015026833631484793,
            "bin_end": 0.017173524150268335,
            "count": 1
           },
           {
            "bin_start": 0.017173524150268335,
            "bin_end": 0.01932021466905188,
            "count": 0
           },
           {
            "bin_start": 0.01932021466905188,
            "bin_end": 0.02146690518783542,
            "count": 2
           }
          ]
         }
        },
        {
         "name": "Response",
         "dtype": "float64",
         "stats": {
          "unique_count": 5,
          "nan_count": 0,
          "min": "0.07228915662650602",
          "max": "0.2222222222222222",
          "histogram": [
           {
            "bin_start": 0.07228915662650602,
            "bin_end": 0.08728246318607764,
            "count": 1
           },
           {
            "bin_start": 0.08728246318607764,
            "bin_end": 0.10227576974564925,
            "count": 0
           },
           {
            "bin_start": 0.10227576974564925,
            "bin_end": 0.11726907630522088,
            "count": 1
           },
           {
            "bin_start": 0.11726907630522088,
            "bin_end": 0.1322623828647925,
            "count": 0
           },
           {
            "bin_start": 0.1322623828647925,
            "bin_end": 0.14725568942436412,
            "count": 0
           },
           {
            "bin_start": 0.14725568942436412,
            "bin_end": 0.16224899598393572,
            "count": 0
           },
           {
            "bin_start": 0.16224899598393572,
            "bin_end": 0.17724230254350734,
            "count": 0
           },
           {
            "bin_start": 0.17724230254350734,
            "bin_end": 0.19223560910307896,
            "count": 1
           },
           {
            "bin_start": 0.19223560910307896,
            "bin_end": 0.20722891566265056,
            "count": 0
           },
           {
            "bin_start": 0.20722891566265056,
            "bin_end": 0.2222222222222222,
            "count": 2
           }
          ]
         }
        },
        {
         "name": "Total_Accepted",
         "dtype": "float64",
         "stats": {
          "unique_count": 5,
          "nan_count": 0,
          "min": "0.021586345381526106",
          "max": "0.15679190751445088",
          "histogram": [
           {
            "bin_start": 0.021586345381526106,
            "bin_end": 0.035106901594818586,
            "count": 1
           },
           {
            "bin_start": 0.035106901594818586,
            "bin_end": 0.04862745780811106,
            "count": 0
           },
           {
            "bin_start": 0.04862745780811106,
            "bin_end": 0.06214801402140355,
            "count": 0
           },
           {
            "bin_start": 0.06214801402140355,
            "bin_end": 0.07566857023469602,
            "count": 3
           },
           {
            "bin_start": 0.07566857023469602,
            "bin_end": 0.0891891264479885,
            "count": 0
           },
           {
            "bin_start": 0.0891891264479885,
            "bin_end": 0.10270968266128098,
            "count": 0
           },
           {
            "bin_start": 0.10270968266128098,
            "bin_end": 0.11623023887457345,
            "count": 0
           },
           {
            "bin_start": 0.11623023887457345,
            "bin_end": 0.12975079508786594,
            "count": 0
           },
           {
            "bin_start": 0.12975079508786594,
            "bin_end": 0.14327135130115842,
            "count": 0
           },
           {
            "bin_start": 0.14327135130115842,
            "bin_end": 0.15679190751445088,
            "count": 1
           }
          ]
         }
        },
        {
         "name": "Divorced",
         "dtype": "float64",
         "stats": {
          "unique_count": 2,
          "nan_count": 0,
          "min": "0.0",
          "max": "0.7483443708609272",
          "histogram": [
           {
            "bin_start": 0,
            "bin_end": 0.07483443708609272,
            "count": 4
           },
           {
            "bin_start": 0.07483443708609272,
            "bin_end": 0.14966887417218544,
            "count": 0
           },
           {
            "bin_start": 0.14966887417218544,
            "bin_end": 0.22450331125827816,
            "count": 0
           },
           {
            "bin_start": 0.22450331125827816,
            "bin_end": 0.2993377483443709,
            "count": 0
           },
           {
            "bin_start": 0.2993377483443709,
            "bin_end": 0.3741721854304636,
            "count": 0
           },
           {
            "bin_start": 0.3741721854304636,
            "bin_end": 0.4490066225165563,
            "count": 0
           },
           {
            "bin_start": 0.4490066225165563,
            "bin_end": 0.523841059602649,
            "count": 0
           },
           {
            "bin_start": 0.523841059602649,
            "bin_end": 0.5986754966887418,
            "count": 0
           },
           {
            "bin_start": 0.5986754966887418,
            "bin_end": 0.6735099337748345,
            "count": 0
           },
           {
            "bin_start": 0.6735099337748345,
            "bin_end": 0.7483443708609272,
            "count": 1
           }
          ]
         }
        },
        {
         "name": "Married",
         "dtype": "float64",
         "stats": {
          "unique_count": 2,
          "nan_count": 0,
          "min": "0.0",
          "max": "1.0",
          "histogram": [
           {
            "bin_start": 0,
            "bin_end": 0.1,
            "count": 3
           },
           {
            "bin_start": 0.1,
            "bin_end": 0.2,
            "count": 0
           },
           {
            "bin_start": 0.2,
            "bin_end": 0.30000000000000004,
            "count": 0
           },
           {
            "bin_start": 0.30000000000000004,
            "bin_end": 0.4,
            "count": 0
           },
           {
            "bin_start": 0.4,
            "bin_end": 0.5,
            "count": 0
           },
           {
            "bin_start": 0.5,
            "bin_end": 0.6000000000000001,
            "count": 0
           },
           {
            "bin_start": 0.6000000000000001,
            "bin_end": 0.7000000000000001,
            "count": 0
           },
           {
            "bin_start": 0.7000000000000001,
            "bin_end": 0.8,
            "count": 0
           },
           {
            "bin_start": 0.8,
            "bin_end": 0.9,
            "count": 0
           },
           {
            "bin_start": 0.9,
            "bin_end": 1,
            "count": 2
           }
          ]
         }
        },
        {
         "name": "Single",
         "dtype": "float64",
         "stats": {
          "unique_count": 2,
          "nan_count": 0,
          "min": "0.0",
          "max": "1.0",
          "histogram": [
           {
            "bin_start": 0,
            "bin_end": 0.1,
            "count": 4
           },
           {
            "bin_start": 0.1,
            "bin_end": 0.2,
            "count": 0
           },
           {
            "bin_start": 0.2,
            "bin_end": 0.30000000000000004,
            "count": 0
           },
           {
            "bin_start": 0.30000000000000004,
            "bin_end": 0.4,
            "count": 0
           },
           {
            "bin_start": 0.4,
            "bin_end": 0.5,
            "count": 0
           },
           {
            "bin_start": 0.5,
            "bin_end": 0.6000000000000001,
            "count": 0
           },
           {
            "bin_start": 0.6000000000000001,
            "bin_end": 0.7000000000000001,
            "count": 0
           },
           {
            "bin_start": 0.7000000000000001,
            "bin_end": 0.8,
            "count": 0
           },
           {
            "bin_start": 0.8,
            "bin_end": 0.9,
            "count": 0
           },
           {
            "bin_start": 0.9,
            "bin_end": 1,
            "count": 1
           }
          ]
         }
        },
        {
         "name": "Together",
         "dtype": "float64",
         "stats": {
          "unique_count": 2,
          "nan_count": 0,
          "min": "0.0",
          "max": "1.0",
          "histogram": [
           {
            "bin_start": 0,
            "bin_end": 0.1,
            "count": 4
           },
           {
            "bin_start": 0.1,
            "bin_end": 0.2,
            "count": 0
           },
           {
            "bin_start": 0.2,
            "bin_end": 0.30000000000000004,
            "count": 0
           },
           {
            "bin_start": 0.30000000000000004,
            "bin_end": 0.4,
            "count": 0
           },
           {
            "bin_start": 0.4,
            "bin_end": 0.5,
            "count": 0
           },
           {
            "bin_start": 0.5,
            "bin_end": 0.6000000000000001,
            "count": 0
           },
           {
            "bin_start": 0.6000000000000001,
            "bin_end": 0.7000000000000001,
            "count": 0
           },
           {
            "bin_start": 0.7000000000000001,
            "bin_end": 0.8,
            "count": 0
           },
           {
            "bin_start": 0.8,
            "bin_end": 0.9,
            "count": 0
           },
           {
            "bin_start": 0.9,
            "bin_end": 1,
            "count": 1
           }
          ]
         }
        },
        {
         "name": "Widow",
         "dtype": "float64",
         "stats": {
          "unique_count": 2,
          "nan_count": 0,
          "min": "0.0",
          "max": "0.25165562913907286",
          "histogram": [
           {
            "bin_start": 0,
            "bin_end": 0.025165562913907286,
            "count": 4
           },
           {
            "bin_start": 0.025165562913907286,
            "bin_end": 0.05033112582781457,
            "count": 0
           },
           {
            "bin_start": 0.05033112582781457,
            "bin_end": 0.07549668874172186,
            "count": 0
           },
           {
            "bin_start": 0.07549668874172186,
            "bin_end": 0.10066225165562914,
            "count": 0
           },
           {
            "bin_start": 0.10066225165562914,
            "bin_end": 0.12582781456953643,
            "count": 0
           },
           {
            "bin_start": 0.12582781456953643,
            "bin_end": 0.1509933774834437,
            "count": 0
           },
           {
            "bin_start": 0.1509933774834437,
            "bin_end": 0.176158940397351,
            "count": 0
           },
           {
            "bin_start": 0.176158940397351,
            "bin_end": 0.20132450331125828,
            "count": 0
           },
           {
            "bin_start": 0.20132450331125828,
            "bin_end": 0.22649006622516557,
            "count": 0
           },
           {
            "bin_start": 0.22649006622516557,
            "bin_end": 0.25165562913907286,
            "count": 1
           }
          ]
         }
        },
        {
         "name": "label",
         "dtype": "int64",
         "stats": {
          "unique_count": 5,
          "nan_count": 0,
          "min": "0",
          "max": "4",
          "histogram": [
           {
            "bin_start": 0,
            "bin_end": 0.4,
            "count": 1
           },
           {
            "bin_start": 0.4,
            "bin_end": 0.8,
            "count": 0
           },
           {
            "bin_start": 0.8,
            "bin_end": 1.2000000000000002,
            "count": 1
           },
           {
            "bin_start": 1.2000000000000002,
            "bin_end": 1.6,
            "count": 0
           },
           {
            "bin_start": 1.6,
            "bin_end": 2,
            "count": 0
           },
           {
            "bin_start": 2,
            "bin_end": 2.4000000000000004,
            "count": 1
           },
           {
            "bin_start": 2.4000000000000004,
            "bin_end": 2.8000000000000003,
            "count": 0
           },
           {
            "bin_start": 2.8000000000000003,
            "bin_end": 3.2,
            "count": 1
           },
           {
            "bin_start": 3.2,
            "bin_end": 3.6,
            "count": 0
           },
           {
            "bin_start": 3.6,
            "bin_end": 4,
            "count": 1
           }
          ]
         }
        },
        {
         "name": "_deepnote_index_column",
         "dtype": "int64"
        }
       ],
       "rows": [
        {
         "Year_Birth": 0.47476259289843326,
         "Education": 0.5404624277456648,
         "Income": 0.7098084678810616,
         "Kidhome": 0.03757225433526012,
         "Teenhome": 0.24277456647398843,
         "Recency": 0.4826297658667601,
         "MntWines": 0.40037128952452483,
         "MntFruits": 0.2692073082173875,
         "MntMeatProducts": 0.19111166959872664,
         "MntFishProducts": 0.2817974869997991,
         "MntSweetProducts": 0.28355812459858704,
         "MntGoldProds": 0.21992328885527523,
         "NumDealsPurchases": 0.1348747591522158,
         "NumWebPurchases": 0.22658959537572257,
         "NumCatalogPurchases": 0.17908753096614366,
         "NumStorePurchases": 0.6742996887505558,
         "NumWebVisitsMonth": 0.384971098265896,
         "AcceptedCmp3": 0.08092485549132948,
         "AcceptedCmp4": 0.15606936416184972,
         "AcceptedCmp5": 0.1907514450867052,
         "AcceptedCmp1": 0.1791907514450867,
         "AcceptedCmp2": 0.02023121387283237,
         "Response": 0.1791907514450867,
         "Total_Accepted": 0.15679190751445088,
         "Divorced": 0,
         "Married": 1,
         "Single": 0,
         "Together": 0,
         "Widow": 0,
         "label": 0,
         "_deepnote_index_column": 0
        },
        {
         "Year_Birth": 0.4390964995269649,
         "Education": 0.5389072847682119,
         "Income": 0.5324218349863845,
         "Kidhome": 0.18543046357615894,
         "Teenhome": 0.30629139072847683,
         "Recency": 0.49799317680112387,
         "MntWines": 0.22857662469005469,
         "MntFruits": 0.143565509667543,
         "MntMeatProducts": 0.0930492369709185,
         "MntFishProducts": 0.15189598302181084,
         "MntSweetProducts": 0.14920730483644393,
         "MntGoldProds": 0.15273049864867652,
         "NumDealsPurchases": 0.1600441501103753,
         "NumWebPurchases": 0.17774834437086093,
         "NumCatalogPurchases": 0.10182119205298013,
         "NumStorePurchases": 0.46230259806418744,
         "NumWebVisitsMonth": 0.5301324503311259,
         "AcceptedCmp3": 0.07947019867549669,
         "AcceptedCmp4": 0.08940397350993377,
         "AcceptedCmp5": 0.06291390728476821,
         "AcceptedCmp1": 0.052980132450331126,
         "AcceptedCmp2": 0.016556291390728478,
         "Response": 0.2152317880794702,
         "Total_Accepted": 0.07533112582781457,
         "Divorced": 0.7483443708609272,
         "Married": 0,
         "Single": 0,
         "Together": 0,
         "Widow": 0.25165562913907286,
         "label": 1,
         "_deepnote_index_column": 1
        },
        {
         "Year_Birth": 0.5643868658574562,
         "Education": 0.4918300653594771,
         "Income": 0.5041116378498295,
         "Kidhome": 0.22657952069716775,
         "Teenhome": 0.20261437908496732,
         "Recency": 0.4999669901630686,
         "MntWines": 0.19709698272402656,
         "MntFruits": 0.13794462508621538,
         "MntMeatProducts": 0.10822645322219064,
         "MntFishProducts": 0.15178203413497532,
         "MntSweetProducts": 0.13487819370172313,
         "MntGoldProds": 0.13344056902788806,
         "NumDealsPurchases": 0.14132171387073347,
         "NumWebPurchases": 0.1524183006535948,
         "NumCatalogPurchases": 0.09438219732337379,
         "NumStorePurchases": 0.4395843807608514,
         "NumWebVisitsMonth": 0.5209150326797386,
         "AcceptedCmp3": 0.0784313725490196,
         "AcceptedCmp4": 0.06753812636165578,
         "AcceptedCmp5": 0.06318082788671024,
         "AcceptedCmp1": 0.06318082788671024,
         "AcceptedCmp2": 0.010893246187363835,
         "Response": 0.2222222222222222,
         "Total_Accepted": 0.07080610021786492,
         "Divorced": 0,
         "Married": 0,
         "Single": 1,
         "Together": 0,
         "Widow": 0,
         "label": 2,
         "_deepnote_index_column": 2
        },
        {
         "Year_Birth": 0.49782775364170934,
         "Education": 0.5076028622540251,
         "Income": 0.5099045896754355,
         "Kidhome": 0.2262969588550984,
         "Teenhome": 0.26565295169946335,
         "Recency": 0.5076525541641822,
         "MntWines": 0.2073804169008144,
         "MntFruits": 0.1266889006751108,
         "MntMeatProducts": 0.09583987970236707,
         "MntFishProducts": 0.15061368549740645,
         "MntSweetProducts": 0.1325238069424116,
         "MntGoldProds": 0.1344300848756402,
         "NumDealsPurchases": 0.15670840787119855,
         "NumWebPurchases": 0.16536672629695884,
         "NumCatalogPurchases": 0.09398159979555329,
         "NumStorePurchases": 0.4453006742809963,
         "NumWebVisitsMonth": 0.5268336314847942,
         "AcceptedCmp3": 0.06440071556350627,
         "AcceptedCmp4": 0.07334525939177101,
         "AcceptedCmp5": 0.07334525939177101,
         "AcceptedCmp1": 0.05366726296958855,
         "AcceptedCmp2": 0.02146690518783542,
         "Response": 0.1037567084078712,
         "Total_Accepted": 0.07155635062611806,
         "Divorced": 0,
         "Married": 0,
         "Single": 0,
         "Together": 1,
         "Widow": 0,
         "label": 3,
         "_deepnote_index_column": 3
        },
        {
         "Year_Birth": 0.5665160642570302,
         "Education": 0.4954819277108434,
         "Income": 0.37059455511238354,
         "Kidhome": 0.35843373493975905,
         "Teenhome": 0.26305220883534136,
         "Recency": 0.4878098251592228,
         "MntWines": 0.06543925198449525,
         "MntFruits": 0.03277431333373696,
         "MntMeatProducts": 0.023042896222571444,
         "MntFishProducts": 0.038144857421965855,
         "MntSweetProducts": 0.03413654618473896,
         "MntGoldProds": 0.07584231005016953,
         "NumDealsPurchases": 0.1713520749665328,
         "NumWebPurchases": 0.12144578313253013,
         "NumCatalogPurchases": 0.03277395295467584,
         "NumStorePurchases": 0.2993512511584801,
         "NumWebVisitsMonth": 0.6377510040160643,
         "AcceptedCmp3": 0.07028112449799197,
         "AcceptedCmp4": 0.01606425702811245,
         "AcceptedCmp5": 0,
         "AcceptedCmp1": 0,
         "AcceptedCmp2": 0,
         "Response": 0.07228915662650602,
         "Total_Accepted": 0.021586345381526106,
         "Divorced": 0,
         "Married": 1,
         "Single": 0,
         "Together": 0,
         "Widow": 0,
         "label": 4,
         "_deepnote_index_column": 4
        }
       ]
      },
      "text/plain": "        Year_Birth  Education    Income   Kidhome  Teenhome   Recency  \\\nlabels                                                                  \n0         0.474763   0.540462  0.709808  0.037572  0.242775  0.482630   \n1         0.439096   0.538907  0.532422  0.185430  0.306291  0.497993   \n2         0.564387   0.491830  0.504112  0.226580  0.202614  0.499967   \n3         0.497828   0.507603  0.509905  0.226297  0.265653  0.507653   \n4         0.566516   0.495482  0.370595  0.358434  0.263052  0.487810   \n\n        MntWines  MntFruits  MntMeatProducts  MntFishProducts  ...  \\\nlabels                                                         ...   \n0       0.400371   0.269207         0.191112         0.281797  ...   \n1       0.228577   0.143566         0.093049         0.151896  ...   \n2       0.197097   0.137945         0.108226         0.151782  ...   \n3       0.207380   0.126689         0.095840         0.150614  ...   \n4       0.065439   0.032774         0.023043         0.038145  ...   \n\n        AcceptedCmp1  AcceptedCmp2  Response  Total_Accepted  Divorced  \\\nlabels                                                                   \n0           0.179191      0.020231  0.179191        0.156792  0.000000   \n1           0.052980      0.016556  0.215232        0.075331  0.748344   \n2           0.063181      0.010893  0.222222        0.070806  0.000000   \n3           0.053667      0.021467  0.103757        0.071556  0.000000   \n4           0.000000      0.000000  0.072289        0.021586  0.000000   \n\n        Married  Single  Together     Widow  label  \nlabels                                              \n0           1.0     0.0       0.0  0.000000      0  \n1           0.0     0.0       0.0  0.251656      1  \n2           0.0     1.0       0.0  0.000000      2  \n3           0.0     0.0       1.0  0.000000      3  \n4           1.0     0.0       0.0  0.000000      4  \n\n[5 rows x 30 columns]",
      "text/html": "<div>\n<style scoped>\n    .dataframe tbody tr th:only-of-type {\n        vertical-align: middle;\n    }\n\n    .dataframe tbody tr th {\n        vertical-align: top;\n    }\n\n    .dataframe thead th {\n        text-align: right;\n    }\n</style>\n<table border=\"1\" class=\"dataframe\">\n  <thead>\n    <tr style=\"text-align: right;\">\n      <th></th>\n      <th>Year_Birth</th>\n      <th>Education</th>\n      <th>Income</th>\n      <th>Kidhome</th>\n      <th>Teenhome</th>\n      <th>Recency</th>\n      <th>MntWines</th>\n      <th>MntFruits</th>\n      <th>MntMeatProducts</th>\n      <th>MntFishProducts</th>\n      <th>...</th>\n      <th>AcceptedCmp1</th>\n      <th>AcceptedCmp2</th>\n      <th>Response</th>\n      <th>Total_Accepted</th>\n      <th>Divorced</th>\n      <th>Married</th>\n      <th>Single</th>\n      <th>Together</th>\n      <th>Widow</th>\n      <th>label</th>\n    </tr>\n    <tr>\n      <th>labels</th>\n      <th></th>\n      <th></th>\n      <th></th>\n      <th></th>\n      <th></th>\n      <th></th>\n      <th></th>\n      <th></th>\n      <th></th>\n      <th></th>\n      <th></th>\n      <th></th>\n      <th></th>\n      <th></th>\n      <th></th>\n      <th></th>\n      <th></th>\n      <th></th>\n      <th></th>\n      <th></th>\n      <th></th>\n    </tr>\n  </thead>\n  <tbody>\n    <tr>\n      <th>0</th>\n      <td>0.474763</td>\n      <td>0.540462</td>\n      <td>0.709808</td>\n      <td>0.037572</td>\n      <td>0.242775</td>\n      <td>0.482630</td>\n      <td>0.400371</td>\n      <td>0.269207</td>\n      <td>0.191112</td>\n      <td>0.281797</td>\n      <td>...</td>\n      <td>0.179191</td>\n      <td>0.020231</td>\n      <td>0.179191</td>\n      <td>0.156792</td>\n      <td>0.000000</td>\n      <td>1.0</td>\n      <td>0.0</td>\n      <td>0.0</td>\n      <td>0.000000</td>\n      <td>0</td>\n    </tr>\n    <tr>\n      <th>1</th>\n      <td>0.439096</td>\n      <td>0.538907</td>\n      <td>0.532422</td>\n      <td>0.185430</td>\n      <td>0.306291</td>\n      <td>0.497993</td>\n      <td>0.228577</td>\n      <td>0.143566</td>\n      <td>0.093049</td>\n      <td>0.151896</td>\n      <td>...</td>\n      <td>0.052980</td>\n      <td>0.016556</td>\n      <td>0.215232</td>\n      <td>0.075331</td>\n      <td>0.748344</td>\n      <td>0.0</td>\n      <td>0.0</td>\n      <td>0.0</td>\n      <td>0.251656</td>\n      <td>1</td>\n    </tr>\n    <tr>\n      <th>2</th>\n      <td>0.564387</td>\n      <td>0.491830</td>\n      <td>0.504112</td>\n      <td>0.226580</td>\n      <td>0.202614</td>\n      <td>0.499967</td>\n      <td>0.197097</td>\n      <td>0.137945</td>\n      <td>0.108226</td>\n      <td>0.151782</td>\n      <td>...</td>\n      <td>0.063181</td>\n      <td>0.010893</td>\n      <td>0.222222</td>\n      <td>0.070806</td>\n      <td>0.000000</td>\n      <td>0.0</td>\n      <td>1.0</td>\n      <td>0.0</td>\n      <td>0.000000</td>\n      <td>2</td>\n    </tr>\n    <tr>\n      <th>3</th>\n      <td>0.497828</td>\n      <td>0.507603</td>\n      <td>0.509905</td>\n      <td>0.226297</td>\n      <td>0.265653</td>\n      <td>0.507653</td>\n      <td>0.207380</td>\n      <td>0.126689</td>\n      <td>0.095840</td>\n      <td>0.150614</td>\n      <td>...</td>\n      <td>0.053667</td>\n      <td>0.021467</td>\n      <td>0.103757</td>\n      <td>0.071556</td>\n      <td>0.000000</td>\n      <td>0.0</td>\n      <td>0.0</td>\n      <td>1.0</td>\n      <td>0.000000</td>\n      <td>3</td>\n    </tr>\n    <tr>\n      <th>4</th>\n      <td>0.566516</td>\n      <td>0.495482</td>\n      <td>0.370595</td>\n      <td>0.358434</td>\n      <td>0.263052</td>\n      <td>0.487810</td>\n      <td>0.065439</td>\n      <td>0.032774</td>\n      <td>0.023043</td>\n      <td>0.038145</td>\n      <td>...</td>\n      <td>0.000000</td>\n      <td>0.000000</td>\n      <td>0.072289</td>\n      <td>0.021586</td>\n      <td>0.000000</td>\n      <td>1.0</td>\n      <td>0.0</td>\n      <td>0.0</td>\n      <td>0.000000</td>\n      <td>4</td>\n    </tr>\n  </tbody>\n</table>\n<p>5 rows × 30 columns</p>\n</div>"
     },
     "metadata": {}
    }
   ]
  },
  {
   "cell_type": "code",
   "metadata": {
    "cell_id": "01e05aa1-c6fa-4846-a641-bddb033883db",
    "tags": [],
    "deepnote_to_be_reexecuted": false,
    "source_hash": "c661bd6e",
    "execution_start": 1647642663342,
    "execution_millis": 5675,
    "deepnote_app_coordinates": {
     "x": 0,
     "y": 114,
     "w": 12,
     "h": 5
    },
    "deepnote_cell_type": "code",
    "deepnote_cell_height": 8962,
    "deepnote_output_heights": [
     264,
     264,
     264,
     264,
     264,
     264,
     264,
     264,
     268,
     264,
     264,
     264,
     264,
     264,
     264,
     266,
     264,
     264,
     264,
     268,
     264,
     264,
     264,
     264,
     264,
     264,
     264,
     264,
     264,
     264
    ]
   },
   "source": "for column in df_customers_KMeans_grouped.columns:\n    sns.barplot(x = 'label', y = column ,data = df_customers_KMeans_grouped) \n    plt.show()",
   "execution_count": null,
   "outputs": [
    {
     "data": {
      "text/plain": "<Figure size 432x288 with 1 Axes>",
      "image/png": "[encoded data removed]"
     },
     "metadata": {
      "needs_background": "light",
      "image/png": {
       "width": 386,
       "height": 262
      }
     },
     "output_type": "display_data"
    },
    {
     "data": {
      "text/plain": "<Figure size 432x288 with 1 Axes>",
      "image/png": "[encoded data removed]"
     },
     "metadata": {
      "needs_background": "light",
      "image/png": {
       "width": 386,
       "height": 262
      }
     },
     "output_type": "display_data"
    },
    {
     "data": {
      "text/plain": "<Figure size 432x288 with 1 Axes>",
      "image/png": "[encoded data removed]"
     },
     "metadata": {
      "needs_background": "light",
      "image/png": {
       "width": 386,
       "height": 262
      }
     },
     "output_type": "display_data"
    },
    {
     "data": {
      "text/plain": "<Figure size 432x288 with 1 Axes>",
      "image/png": "[encoded data removed]"
     },
     "metadata": {
      "needs_background": "light",
      "image/png": {
       "width": 392,
       "height": 262
      }
     },
     "output_type": "display_data"
    },
    {
     "data": {
      "text/plain": "<Figure size 432x288 with 1 Axes>",
      "image/png": "[encoded data removed]"
     },
     "metadata": {
      "needs_background": "light",
      "image/png": {
       "width": 392,
       "height": 262
      }
     },
     "output_type": "display_data"
    },
    {
     "data": {
      "text/plain": "<Figure size 432x288 with 1 Axes>",
      "image/png": "[encoded data removed]"
     },
     "metadata": {
      "needs_background": "light",
      "image/png": {
       "width": 386,
       "height": 262
      }
     },
     "output_type": "display_data"
    },
    {
     "data": {
      "text/plain": "<Figure size 432x288 with 1 Axes>",
      "image/png": "[encoded data removed]"
     },
     "metadata": {
      "needs_background": "light",
      "image/png": {
       "width": 392,
       "height": 262
      }
     },
     "output_type": "display_data"
    },
    {
     "data": {
      "text/plain": "<Figure size 432x288 with 1 Axes>",
      "image/png": "[encoded data removed]"
     },
     "metadata": {
      "needs_background": "light",
      "image/png": {
       "width": 392,
       "height": 262
      }
     },
     "output_type": "display_data"
    },
    {
     "data": {
      "text/plain": "<Figure size 432x288 with 1 Axes>",
      "image/png": "[encoded data removed]"
     },
     "metadata": {
      "needs_background": "light",
      "image/png": {
       "width": 398,
       "height": 266
      }
     },
     "output_type": "display_data"
    },
    {
     "data": {
      "text/plain": "<Figure size 432x288 with 1 Axes>",
      "image/png": "[encoded data removed]"
     },
     "metadata": {
      "needs_background": "light",
      "image/png": {
       "width": 392,
       "height": 262
      }
     },
     "output_type": "display_data"
    },
    {
     "data": {
      "text/plain": "<Figure size 432x288 with 1 Axes>",
      "image/png": "[encoded data removed]"
     },
     "metadata": {
      "needs_background": "light",
      "image/png": {
       "width": 392,
       "height": 262
      }
     },
     "output_type": "display_data"
    },
    {
     "data": {
      "text/plain": "<Figure size 432x288 with 1 Axes>",
      "image/png": "[encoded data removed]"
     },
     "metadata": {
      "needs_background": "light",
      "image/png": {
       "width": 392,
       "height": 262
      }
     },
     "output_type": "display_data"
    },
    {
     "data": {
      "text/plain": "<Figure size 432x288 with 1 Axes>",
      "image/png": "[encoded data removed]"
     },
     "metadata": {
      "needs_background": "light",
      "image/png": {
       "width": 392,
       "height": 262
      }
     },
     "output_type": "display_data"
    },
    {
     "data": {
      "text/plain": "<Figure size 432x288 with 1 Axes>",
      "image/png": "[encoded data removed]"
     },
     "metadata": {
      "needs_background": "light",
      "image/png": {
       "width": 392,
       "height": 262
      }
     },
     "output_type": "display_data"
    },
    {
     "data": {
      "text/plain": "<Figure size 432x288 with 1 Axes>",
      "image/png": "[encoded data removed]"
     },
     "metadata": {
      "needs_background": "light",
      "image/png": {
       "width": 398,
       "height": 262
      }
     },
     "output_type": "display_data"
    },
    {
     "data": {
      "text/plain": "<Figure size 432x288 with 1 Axes>",
      "image/png": "[encoded data removed]"
     },
     "metadata": {
      "needs_background": "light",
      "image/png": {
       "width": 386,
       "height": 264
      }
     },
     "output_type": "display_data"
    },
    {
     "data": {
      "text/plain": "<Figure size 432x288 with 1 Axes>",
      "image/png": "[encoded data removed]"
     },
     "metadata": {
      "needs_background": "light",
      "image/png": {
       "width": 386,
       "height": 262
      }
     },
     "output_type": "display_data"
    },
    {
     "data": {
      "text/plain": "<Figure size 432x288 with 1 Axes>",
      "image/png": "[encoded data removed]"
     },
     "metadata": {
      "needs_background": "light",
      "image/png": {
       "width": 392,
       "height": 262
      }
     },
     "output_type": "display_data"
    },
    {
     "data": {
      "text/plain": "<Figure size 432x288 with 1 Axes>",
      "image/png": "[encoded data removed]"
     },
     "metadata": {
      "needs_background": "light",
      "image/png": {
       "width": 392,
       "height": 262
      }
     },
     "output_type": "display_data"
    },
    {
     "data": {
      "text/plain": "<Figure size 432x288 with 1 Axes>",
      "image/png": "[encoded data removed]"
     },
     "metadata": {
      "needs_background": "light",
      "image/png": {
       "width": 398,
       "height": 266
      }
     },
     "output_type": "display_data"
    },
    {
     "data": {
      "text/plain": "<Figure size 432x288 with 1 Axes>",
      "image/png": "[encoded data removed]"
     },
     "metadata": {
      "needs_background": "light",
      "image/png": {
       "width": 398,
       "height": 262
      }
     },
     "output_type": "display_data"
    },
    {
     "data": {
      "text/plain": "<Figure size 432x288 with 1 Axes>",
      "image/png": "[encoded data removed]"
     },
     "metadata": {
      "needs_background": "light",
      "image/png": {
       "width": 398,
       "height": 262
      }
     },
     "output_type": "display_data"
    },
    {
     "data": {
      "text/plain": "<Figure size 432x288 with 1 Axes>",
      "image/png": "[encoded data removed]"
     },
     "metadata": {
      "needs_background": "light",
      "image/png": {
       "width": 392,
       "height": 262
      }
     },
     "output_type": "display_data"
    },
    {
     "data": {
      "text/plain": "<Figure size 432x288 with 1 Axes>",
      "image/png": "[encoded data removed]"
     },
     "metadata": {
      "needs_background": "light",
      "image/png": {
       "width": 393,
       "height": 262
      }
     },
     "output_type": "display_data"
    },
    {
     "data": {
      "text/plain": "<Figure size 432x288 with 1 Axes>",
      "image/png": "[encoded data removed]"
     },
     "metadata": {
      "needs_background": "light",
      "image/png": {
       "width": 386,
       "height": 262
      }
     },
     "output_type": "display_data"
    },
    {
     "data": {
      "text/plain": "<Figure size 432x288 with 1 Axes>",
      "image/png": "[encoded data removed]"
     },
     "metadata": {
      "needs_background": "light",
      "image/png": {
       "width": 386,
       "height": 262
      }
     },
     "output_type": "display_data"
    },
    {
     "data": {
      "text/plain": "<Figure size 432x288 with 1 Axes>",
      "image/png": "[encoded data removed]"
     },
     "metadata": {
      "needs_background": "light",
      "image/png": {
       "width": 386,
       "height": 262
      }
     },
     "output_type": "display_data"
    },
    {
     "data": {
      "text/plain": "<Figure size 432x288 with 1 Axes>",
      "image/png": "[encoded data removed]"
     },
     "metadata": {
      "needs_background": "light",
      "image/png": {
       "width": 386,
       "height": 262
      }
     },
     "output_type": "display_data"
    },
    {
     "data": {
      "text/plain": "<Figure size 432x288 with 1 Axes>",
      "image/png": "[encoded data removed]"
     },
     "metadata": {
      "needs_background": "light",
      "image/png": {
       "width": 392,
       "height": 262
      }
     },
     "output_type": "display_data"
    },
    {
     "data": {
      "text/plain": "<Figure size 432x288 with 1 Axes>",
      "image/png": "[encoded data removed]"
     },
     "metadata": {
      "needs_background": "light",
      "image/png": {
       "width": 386,
       "height": 262
      }
     },
     "output_type": "display_data"
    }
   ]
  },
  {
   "cell_type": "markdown",
   "source": "## Ejercicio # 1 (20%)\n\nBasándose en el modelo de agrupamiento K-means construido, realizar la explicación de qué tipo de clientes están representados en cada uno de los grupos.",
   "metadata": {
    "cell_id": "ad58f1a7-dba3-408f-b6f5-c78eb94a979b",
    "tags": [],
    "deepnote_app_coordinates": {
     "x": 0,
     "y": 120,
     "w": 12,
     "h": 5
    },
    "deepnote_cell_type": "markdown",
    "deepnote_cell_height": 130.796875
   }
  },
  {
   "cell_type": "markdown",
   "source": "**Respuesta**",
   "metadata": {
    "cell_id": "d2cf8e22-06ac-4690-91e3-e595009bf8ef",
    "tags": [],
    "deepnote_app_coordinates": {
     "x": 0,
     "y": 132,
     "w": 12,
     "h": 5
    },
    "deepnote_cell_type": "markdown",
    "deepnote_cell_height": 52.390625
   }
  },
  {
   "cell_type": "markdown",
   "source": "",
   "metadata": {
    "cell_id": "a4aa1bce-4bd3-438f-8955-db5920079592",
    "tags": [],
    "deepnote_app_coordinates": {
     "x": 0,
     "y": 150,
     "w": 12,
     "h": 5
    },
    "deepnote_cell_type": "markdown",
    "deepnote_cell_height": 46
   }
  },
  {
   "cell_type": "markdown",
   "source": "## Ejercicio # 2 (15%)\n\n¿Cuáles son las características del tipo de cliente que responde de forma más positiva a las promociones? ¿Qué recomendación realizaría para poder seguir teniendo esta buena respuesta, o incluso incrementarla?",
   "metadata": {
    "cell_id": "30edfffa-4414-4ab3-885a-a1e9f5657dc8",
    "tags": [],
    "deepnote_app_coordinates": {
     "x": 0,
     "y": 126,
     "w": 12,
     "h": 5
    },
    "deepnote_cell_type": "markdown",
    "deepnote_cell_height": 130.796875
   }
  },
  {
   "cell_type": "markdown",
   "source": "**Respuesta**",
   "metadata": {
    "cell_id": "f3c02e63-fc03-4a4e-8b48-11dfcdfb5c6a",
    "tags": [],
    "deepnote_app_coordinates": {
     "x": 0,
     "y": 138,
     "w": 12,
     "h": 5
    },
    "deepnote_cell_type": "markdown",
    "deepnote_cell_height": 52.390625
   }
  },
  {
   "cell_type": "markdown",
   "source": "",
   "metadata": {
    "cell_id": "4203d333-da14-4c88-a12e-481b77becbb8",
    "tags": [],
    "deepnote_app_coordinates": {
     "x": 0,
     "y": 144,
     "w": 12,
     "h": 5
    },
    "deepnote_cell_type": "markdown",
    "deepnote_cell_height": 46
   }
  },
  {
   "cell_type": "markdown",
   "source": "## Ejercicio # 3 (15%)\n\n¿Cuáles son las características del tipo de cliente que responde de forma menos positiva a las ofertas? ¿Qué recomendación realizaría para poder mejorar esta respuesta?",
   "metadata": {
    "cell_id": "35fc3c43-8b33-4f31-ac2b-c5c167e7d9b0",
    "tags": [],
    "deepnote_app_coordinates": {
     "x": 0,
     "y": 156,
     "w": 12,
     "h": 5
    },
    "deepnote_cell_type": "markdown",
    "deepnote_cell_height": 130.796875
   }
  },
  {
   "cell_type": "markdown",
   "source": "**Respuesta**",
   "metadata": {
    "cell_id": "47d1c8d7-e0d2-4c63-aa44-282fef1b0e28",
    "tags": [],
    "deepnote_app_coordinates": {
     "x": 0,
     "y": 162,
     "w": 12,
     "h": 5
    },
    "deepnote_cell_type": "markdown",
    "deepnote_cell_height": 52.390625
   }
  },
  {
   "cell_type": "markdown",
   "source": "",
   "metadata": {
    "cell_id": "d86e27d2-cc35-4c5c-a702-cb66a6a23c7c",
    "tags": [],
    "deepnote_app_coordinates": {
     "x": 0,
     "y": 168,
     "w": 12,
     "h": 5
    },
    "deepnote_cell_type": "markdown",
    "deepnote_cell_height": 46
   }
  },
  {
   "cell_type": "markdown",
   "source": "## Ejercicio # 4 (15%)\n\nTome un tipo de cliente (categoría) que responde de intermedia a las ofertas ¿Cuáles son las características de este cliente? ¿Qué recomendación realizaría para poder mejorar esta respuesta?",
   "metadata": {
    "cell_id": "8dee65b3-baf6-435a-96f9-91de4a83ab34",
    "tags": [],
    "deepnote_app_coordinates": {
     "x": 0,
     "y": 186,
     "w": 12,
     "h": 5
    },
    "deepnote_cell_type": "markdown",
    "deepnote_cell_height": 236.796875
   }
  },
  {
   "cell_type": "markdown",
   "source": "**Respuesta**",
   "metadata": {
    "cell_id": "8c6fedd6-d237-4ef0-98c8-705cfa026e3d",
    "tags": [],
    "deepnote_app_coordinates": {
     "x": 0,
     "y": 192,
     "w": 12,
     "h": 5
    },
    "deepnote_cell_type": "markdown",
    "deepnote_cell_height": 52.390625
   }
  },
  {
   "cell_type": "markdown",
   "source": "",
   "metadata": {
    "cell_id": "2685f190-5392-4b1c-9d36-b362d0af6ec0",
    "tags": [],
    "deepnote_app_coordinates": {
     "x": 0,
     "y": 198,
     "w": 12,
     "h": 5
    },
    "deepnote_cell_type": "markdown",
    "deepnote_cell_height": 46
   }
  },
  {
   "cell_type": "markdown",
   "source": "## Parte 2: Modelo de Regresión\n",
   "metadata": {
    "tags": [],
    "cell_id": "00015-3a00d20f-24bd-4f40-9da6-0d8e1e6be8e5",
    "deepnote_app_coordinates": {
     "x": 0,
     "y": 60,
     "w": 12,
     "h": 5
    },
    "deepnote_cell_type": "markdown",
    "deepnote_cell_height": 70
   }
  },
  {
   "cell_type": "code",
   "metadata": {
    "tags": [],
    "deepnote_to_be_reexecuted": false,
    "source_hash": "faf39b8d",
    "execution_start": 1647643517330,
    "cell_id": "00019-08de37eb-1577-4f6c-84aa-17b9d1a6c98c",
    "execution_millis": 58,
    "deepnote_app_coordinates": {
     "x": 0,
     "y": 66,
     "w": 12,
     "h": 6
    },
    "deepnote_cell_type": "code",
    "deepnote_cell_height": 863
   },
   "source": "#Definition of input variables\nX = df_customers.drop(columns=['Response'])\n#Definition of output variable\ny = df_customers['Response']\n\n#Building the model and fitting the data\nlog_reg = sm.Logit(y, X).fit()\n\n#Printing the summary table\nprint(log_reg.summary())",
   "execution_count": null,
   "outputs": [
    {
     "name": "stdout",
     "text": "Optimization terminated successfully.\n         Current function value: 0.259990\n         Iterations 8\n                           Logit Regression Results                           \n==============================================================================\nDep. Variable:               Response   No. Observations:                 2164\nModel:                          Logit   Df Residuals:                     2137\nMethod:                           MLE   Df Model:                           26\nDate:                Fri, 18 Mar 2022   Pseudo R-squ.:                  0.3831\nTime:                        22:45:17   Log-Likelihood:                -562.62\nconverged:                       True   LL-Null:                       -911.96\nCovariance Type:            nonrobust   LLR p-value:                1.366e-130\n=======================================================================================\n                          coef    std err          z      P>|z|      [0.025      0.975]\n---------------------------------------------------------------------------------------\nYear_Birth             -0.0080      0.007     -1.090      0.276      -0.022       0.006\nEducation               0.3531      0.066      5.358      0.000       0.224       0.482\nIncome               1.638e-05   9.73e-06      1.683      0.092   -2.69e-06    3.55e-05\nKidhome                -0.2819      0.231     -1.218      0.223      -0.736       0.172\nTeenhome               -1.3068      0.223     -5.847      0.000      -1.745      -0.869\nRecency                -0.0300      0.003    -10.131      0.000      -0.036      -0.024\nMntWines               -0.0006      0.000     -1.485      0.137      -0.001       0.000\nMntFruits               0.0016      0.002      0.643      0.520      -0.003       0.006\nMntMeatProducts         0.0033      0.001      5.756      0.000       0.002       0.004\nMntFishProducts        -0.0017      0.002     -0.925      0.355      -0.005       0.002\nMntSweetProducts        0.0011      0.002      0.444      0.657      -0.004       0.006\nMntGoldProds            0.0032      0.002      1.885      0.059      -0.000       0.007\nNumDealsPurchases       0.2570      0.054      4.729      0.000       0.150       0.363\nNumWebPurchases         0.0213      0.041      0.513      0.608      -0.060       0.103\nNumCatalogPurchases     0.1471      0.046      3.174      0.002       0.056       0.238\nNumStorePurchases      -0.2165      0.039     -5.623      0.000      -0.292      -0.141\nNumWebVisitsMonth       0.4282      0.065      6.638      0.000       0.302       0.555\nAcceptedCmp3            0.5178        nan        nan        nan         nan         nan\nAcceptedCmp4           -0.1125        nan        nan        nan         nan         nan\nAcceptedCmp5            0.5331        nan        nan        nan         nan         nan\nAcceptedCmp1           -0.0898        nan        nan        nan         nan         nan\nAcceptedCmp2            0.3442        nan        nan        nan         nan         nan\nTotal_Accepted          1.1928        nan        nan        nan         nan         nan\nDivorced               11.3829     14.441      0.788      0.431     -16.921      39.687\nMarried                10.1704     14.452      0.704      0.482     -18.154      38.495\nSingle                 11.3880     14.459      0.788      0.431     -16.950      39.726\nTogether               10.1611     14.444      0.703      0.482     -18.148      38.470\nWidow                  11.3797     14.391      0.791      0.429     -16.825      39.585\n=======================================================================================\n",
     "output_type": "stream"
    }
   ]
  },
  {
   "cell_type": "markdown",
   "source": "## Ejercicio # 5 (20%)\n\nBasándose en el modelo de regresión logística realizado ¿Que característica considera importante para tener en cuenta a la hora de predecir si una persona va a responder a la oferta enviada?",
   "metadata": {
    "cell_id": "46d59053-e8d7-4e76-b77e-be5e3e3df36d",
    "tags": [],
    "deepnote_app_coordinates": {
     "x": 0,
     "y": 180,
     "w": 12,
     "h": 5
    },
    "deepnote_cell_type": "markdown",
    "deepnote_cell_height": 130.796875
   }
  },
  {
   "cell_type": "markdown",
   "source": "**Respuesta**",
   "metadata": {
    "cell_id": "c0df556e-32f1-4094-8522-8c6561020ae4",
    "tags": [],
    "deepnote_app_coordinates": {
     "x": 0,
     "y": 204,
     "w": 12,
     "h": 5
    },
    "deepnote_cell_type": "markdown",
    "deepnote_cell_height": 52.390625
   }
  },
  {
   "cell_type": "markdown",
   "source": "",
   "metadata": {
    "cell_id": "0865df47-dee3-4fb3-a34e-0ce9f5bed87c",
    "tags": [],
    "deepnote_app_coordinates": {
     "x": 0,
     "y": 210,
     "w": 12,
     "h": 5
    },
    "deepnote_cell_type": "markdown",
    "deepnote_cell_height": 46
   }
  },
  {
   "cell_type": "markdown",
   "source": "## Ejercicio # 6 (15%)\n\nBasándose en las características mencionadas anteriormente ¿Qué recomendación le pudiera dar a la empresa a la hora de hacer las ofertas y poder aumentar las respuestas de los clientes?",
   "metadata": {
    "cell_id": "a3f87196-aaeb-4008-a992-3d57e5595410",
    "tags": [],
    "deepnote_app_coordinates": {
     "x": 0,
     "y": 216,
     "w": 12,
     "h": 5
    },
    "deepnote_cell_type": "markdown",
    "deepnote_cell_height": 130.796875
   }
  },
  {
   "cell_type": "markdown",
   "source": "**Respuesta**",
   "metadata": {
    "cell_id": "9df2dde0-8400-4058-b900-add2a3dc6bce",
    "tags": [],
    "deepnote_app_coordinates": {
     "x": 0,
     "y": 222,
     "w": 12,
     "h": 5
    },
    "deepnote_cell_type": "markdown",
    "deepnote_cell_height": 52.390625
   }
  },
  {
   "cell_type": "markdown",
   "source": "",
   "metadata": {
    "cell_id": "7d048c18-8a11-4c19-b621-ee16c15c0182",
    "tags": [],
    "deepnote_app_coordinates": {
     "x": 0,
     "y": 234,
     "w": 12,
     "h": 5
    },
    "deepnote_cell_type": "markdown",
    "deepnote_cell_height": 46
   }
  },
  {
   "cell_type": "markdown",
   "source": "### Ejercicio Bono\n\nSerá posible obtener puntos extra en la calificación de este taller (Un máximo de 1 punto sobre 10) realizando correctamente el siguiente ejercicio:\n\n\nUtilizar estos mismos datos en excel (enviado como adjunto en el correo) para realizar una regresión lineal de las características de los clientes (X) contra el total de ofertas respondidas por el cliente (Y). Explicar estos resultados en el contexto del negocio.",
   "metadata": {
    "cell_id": "fc34e717-b1da-49fe-8608-a1e3366a3906",
    "tags": [],
    "deepnote_app_coordinates": {
     "x": 0,
     "y": 228,
     "w": 12,
     "h": 5
    },
    "deepnote_cell_type": "markdown",
    "deepnote_cell_height": 181.59375
   }
  },
  {
   "cell_type": "markdown",
   "source": "<a style='text-decoration:none;line-height:16px;display:flex;color:#5B5B62;padding:10px;justify-content:end;' href='https://deepnote.com?utm_source=created-in-deepnote-cell&projectId=6bb6c849-6b4b-49a2-8775-80ecb8e8b9b2' target=\"_blank\">\n<img alt='Created in deepnote.com' style='display:inline;max-height:16px;margin:0px;margin-right:7.5px;' src='data:image/svg+xml;base64,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' > </img>\nCreated in <span style='font-weight:600;margin-left:4px;'>Deepnote</span></a>",
   "metadata": {
    "tags": [],
    "created_in_deepnote_cell": true,
    "deepnote_cell_type": "markdown"
   }
  }
 ],
 "nbformat": 4,
 "nbformat_minor": 2,
 "metadata": {
  "orig_nbformat": 2,
  "deepnote": {
   "is_reactive": false
  },
  "deepnote_notebook_id": "284c5dbc-0485-4ab9-bc2f-0c824b631bd5",
  "deepnote_execution_queue": [],
  "deepnote_app_layout": "article"
 }
}